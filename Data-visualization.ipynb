{
 "cells": [
  {
   "cell_type": "markdown",
   "id": "17c05182",
   "metadata": {},
   "source": [
    "# Data Visualization "
   ]
  },
  {
   "cell_type": "markdown",
   "id": "7c6383c2",
   "metadata": {},
   "source": [
    "Python is a very popular programming language and has very good libraries like _**NumPy**_ and _**Pandas**_ to manipulate data and _**Matplotlib**_ and _**Seaborn**_ to visualize the data. We can make many types of visualizations like Bar graphs, Line graphs, Boxplots, Histograms. \n",
    "\n",
    "Data visulalization is all about loading data, simplifying data, cleaning data, augmenting data (when it is not reach enough) and understand data on a more intuitive level. \n",
    "\n",
    "First of all, we need data in a plottable form to be able to plot data. NumPy and Pandas can be used for this purpose. We can efficinetly load, store, manipulate and export data using this libraries.\n",
    "\n",
    "Matplotlib and Seaborn are very popular Python plotting libraries. While Matplotlib API is relatively low-level, Seaborn API is hig-level and provides high-level graphics.   "
   ]
  },
  {
   "cell_type": "markdown",
   "id": "bd35ea5c",
   "metadata": {},
   "source": [
    "### Data Loading"
   ]
  },
  {
   "cell_type": "markdown",
   "id": "11cd955f",
   "metadata": {},
   "source": [
    "We can load/import data from a csv file or an excel file using Pandas library. First, we need to import Pandas library. Then, we get our data using Pandas' read_csv function which takes the file path or url of the file as argument. "
   ]
  },
  {
   "cell_type": "code",
   "execution_count": 1,
   "id": "4c5a9091",
   "metadata": {},
   "outputs": [],
   "source": [
    "import pandas as pd\n",
    "file_url = 'https://drive.google.com/uc?id=1_0F4v5dven3QQ9QgmJieoxmTJi6mwjT5' \n",
    "dataset = pd.read_csv(file_url)"
   ]
  },
  {
   "cell_type": "markdown",
   "id": "509338cf",
   "metadata": {},
   "source": [
    "Let's look at a small part of our dataset to figure out what kind of data we have. Rows include observations and columns include features. Rows have labels called indices or headers. It starts with zero. "
   ]
  },
  {
   "cell_type": "code",
   "execution_count": 2,
   "id": "b83bf298",
   "metadata": {},
   "outputs": [
    {
     "data": {
      "text/html": [
       "<div>\n",
       "<style scoped>\n",
       "    .dataframe tbody tr th:only-of-type {\n",
       "        vertical-align: middle;\n",
       "    }\n",
       "\n",
       "    .dataframe tbody tr th {\n",
       "        vertical-align: top;\n",
       "    }\n",
       "\n",
       "    .dataframe thead th {\n",
       "        text-align: right;\n",
       "    }\n",
       "</style>\n",
       "<table border=\"1\" class=\"dataframe\">\n",
       "  <thead>\n",
       "    <tr style=\"text-align: right;\">\n",
       "      <th></th>\n",
       "      <th>Month</th>\n",
       "      <th>Starting Balance</th>\n",
       "      <th>Repayment</th>\n",
       "      <th>Interest Paid</th>\n",
       "      <th>Principal Paid</th>\n",
       "      <th>New Balance</th>\n",
       "      <th>term</th>\n",
       "      <th>interest_rate</th>\n",
       "      <th>car_type</th>\n",
       "    </tr>\n",
       "  </thead>\n",
       "  <tbody>\n",
       "    <tr>\n",
       "      <th>0</th>\n",
       "      <td>1</td>\n",
       "      <td>34689.96</td>\n",
       "      <td>687.23</td>\n",
       "      <td>202.93</td>\n",
       "      <td>484.30</td>\n",
       "      <td>34205.66</td>\n",
       "      <td>60</td>\n",
       "      <td>0.0702</td>\n",
       "      <td>Toyota Sienna</td>\n",
       "    </tr>\n",
       "    <tr>\n",
       "      <th>1</th>\n",
       "      <td>2</td>\n",
       "      <td>34205.66</td>\n",
       "      <td>687.23</td>\n",
       "      <td>200.10</td>\n",
       "      <td>487.13</td>\n",
       "      <td>33718.53</td>\n",
       "      <td>60</td>\n",
       "      <td>0.0702</td>\n",
       "      <td>Toyota Sienna</td>\n",
       "    </tr>\n",
       "    <tr>\n",
       "      <th>2</th>\n",
       "      <td>3</td>\n",
       "      <td>33718.53</td>\n",
       "      <td>687.23</td>\n",
       "      <td>197.25</td>\n",
       "      <td>489.98</td>\n",
       "      <td>33228.55</td>\n",
       "      <td>60</td>\n",
       "      <td>0.0702</td>\n",
       "      <td>Toyota Sienna</td>\n",
       "    </tr>\n",
       "    <tr>\n",
       "      <th>3</th>\n",
       "      <td>4</td>\n",
       "      <td>33228.55</td>\n",
       "      <td>687.23</td>\n",
       "      <td>194.38</td>\n",
       "      <td>492.85</td>\n",
       "      <td>32735.70</td>\n",
       "      <td>60</td>\n",
       "      <td>0.0702</td>\n",
       "      <td>Toyota Sienna</td>\n",
       "    </tr>\n",
       "    <tr>\n",
       "      <th>4</th>\n",
       "      <td>5</td>\n",
       "      <td>32735.70</td>\n",
       "      <td>687.23</td>\n",
       "      <td>191.50</td>\n",
       "      <td>495.73</td>\n",
       "      <td>32239.97</td>\n",
       "      <td>60</td>\n",
       "      <td>0.0702</td>\n",
       "      <td>Toyota Sienna</td>\n",
       "    </tr>\n",
       "  </tbody>\n",
       "</table>\n",
       "</div>"
      ],
      "text/plain": [
       "   Month  Starting Balance  Repayment  Interest Paid  Principal Paid  \\\n",
       "0      1          34689.96     687.23         202.93          484.30   \n",
       "1      2          34205.66     687.23         200.10          487.13   \n",
       "2      3          33718.53     687.23         197.25          489.98   \n",
       "3      4          33228.55     687.23         194.38          492.85   \n",
       "4      5          32735.70     687.23         191.50          495.73   \n",
       "\n",
       "   New Balance  term  interest_rate       car_type  \n",
       "0     34205.66    60         0.0702  Toyota Sienna  \n",
       "1     33718.53    60         0.0702  Toyota Sienna  \n",
       "2     33228.55    60         0.0702  Toyota Sienna  \n",
       "3     32735.70    60         0.0702  Toyota Sienna  \n",
       "4     32239.97    60         0.0702  Toyota Sienna  "
      ]
     },
     "execution_count": 2,
     "metadata": {},
     "output_type": "execute_result"
    }
   ],
   "source": [
    "dataset.head(5)  # show the first 5 rows"
   ]
  },
  {
   "cell_type": "code",
   "execution_count": 3,
   "id": "42418f12",
   "metadata": {},
   "outputs": [
    {
     "data": {
      "text/html": [
       "<div>\n",
       "<style scoped>\n",
       "    .dataframe tbody tr th:only-of-type {\n",
       "        vertical-align: middle;\n",
       "    }\n",
       "\n",
       "    .dataframe tbody tr th {\n",
       "        vertical-align: top;\n",
       "    }\n",
       "\n",
       "    .dataframe thead th {\n",
       "        text-align: right;\n",
       "    }\n",
       "</style>\n",
       "<table border=\"1\" class=\"dataframe\">\n",
       "  <thead>\n",
       "    <tr style=\"text-align: right;\">\n",
       "      <th></th>\n",
       "      <th>Month</th>\n",
       "      <th>Starting Balance</th>\n",
       "      <th>Repayment</th>\n",
       "      <th>Interest Paid</th>\n",
       "      <th>Principal Paid</th>\n",
       "      <th>New Balance</th>\n",
       "      <th>term</th>\n",
       "      <th>interest_rate</th>\n",
       "      <th>car_type</th>\n",
       "    </tr>\n",
       "  </thead>\n",
       "  <tbody>\n",
       "    <tr>\n",
       "      <th>403</th>\n",
       "      <td>56</td>\n",
       "      <td>3951.11</td>\n",
       "      <td>796.01</td>\n",
       "      <td>9.54</td>\n",
       "      <td>786.47</td>\n",
       "      <td>3164.64</td>\n",
       "      <td>60</td>\n",
       "      <td>0.029</td>\n",
       "      <td>VW Golf R</td>\n",
       "    </tr>\n",
       "    <tr>\n",
       "      <th>404</th>\n",
       "      <td>57</td>\n",
       "      <td>3164.64</td>\n",
       "      <td>796.01</td>\n",
       "      <td>7.64</td>\n",
       "      <td>788.37</td>\n",
       "      <td>2376.27</td>\n",
       "      <td>60</td>\n",
       "      <td>0.029</td>\n",
       "      <td>VW Golf R</td>\n",
       "    </tr>\n",
       "    <tr>\n",
       "      <th>405</th>\n",
       "      <td>58</td>\n",
       "      <td>2376.27</td>\n",
       "      <td>796.01</td>\n",
       "      <td>5.74</td>\n",
       "      <td>790.27</td>\n",
       "      <td>1586.00</td>\n",
       "      <td>60</td>\n",
       "      <td>0.029</td>\n",
       "      <td>VW Golf R</td>\n",
       "    </tr>\n",
       "    <tr>\n",
       "      <th>406</th>\n",
       "      <td>59</td>\n",
       "      <td>1586.00</td>\n",
       "      <td>796.01</td>\n",
       "      <td>3.83</td>\n",
       "      <td>792.18</td>\n",
       "      <td>793.82</td>\n",
       "      <td>60</td>\n",
       "      <td>0.029</td>\n",
       "      <td>VW Golf R</td>\n",
       "    </tr>\n",
       "    <tr>\n",
       "      <th>407</th>\n",
       "      <td>60</td>\n",
       "      <td>793.82</td>\n",
       "      <td>796.01</td>\n",
       "      <td>1.91</td>\n",
       "      <td>794.10</td>\n",
       "      <td>-0.28</td>\n",
       "      <td>60</td>\n",
       "      <td>0.029</td>\n",
       "      <td>VW Golf R</td>\n",
       "    </tr>\n",
       "  </tbody>\n",
       "</table>\n",
       "</div>"
      ],
      "text/plain": [
       "     Month  Starting Balance  Repayment  Interest Paid  Principal Paid  \\\n",
       "403     56           3951.11     796.01           9.54          786.47   \n",
       "404     57           3164.64     796.01           7.64          788.37   \n",
       "405     58           2376.27     796.01           5.74          790.27   \n",
       "406     59           1586.00     796.01           3.83          792.18   \n",
       "407     60            793.82     796.01           1.91          794.10   \n",
       "\n",
       "     New Balance  term  interest_rate   car_type  \n",
       "403      3164.64    60          0.029  VW Golf R  \n",
       "404      2376.27    60          0.029  VW Golf R  \n",
       "405      1586.00    60          0.029  VW Golf R  \n",
       "406       793.82    60          0.029  VW Golf R  \n",
       "407        -0.28    60          0.029  VW Golf R  "
      ]
     },
     "execution_count": 3,
     "metadata": {},
     "output_type": "execute_result"
    }
   ],
   "source": [
    "dataset.tail(5)  # show the last 5 rows"
   ]
  },
  {
   "cell_type": "markdown",
   "id": "18b0c73a",
   "metadata": {},
   "source": [
    "\n",
    "Each tabular view above is called Pandas' _**DataFrame**_ and we transfer some content of the data into the DataFrame.  "
   ]
  },
  {
   "cell_type": "code",
   "execution_count": 4,
   "id": "af8ee753",
   "metadata": {},
   "outputs": [
    {
     "data": {
      "text/plain": [
       "pandas.core.frame.DataFrame"
      ]
     },
     "execution_count": 4,
     "metadata": {},
     "output_type": "execute_result"
    }
   ],
   "source": [
    "type(dataset)  # type is Pandas Dataframe"
   ]
  },
  {
   "cell_type": "markdown",
   "id": "a3bdff82",
   "metadata": {},
   "source": [
    "\n",
    "Now we can examine the data whether it is correctly loaded and valid. We also want to see the last rows to see if they have same format as the first rows.\n",
    "\n",
    "The data here shows you for example how much you will pay in interest over time or you can find out how much will be the total interest payment according to months for a particular car. But it is hard to see these informations just by looking at this table. That's why we need visualizations. \n",
    "\n",
    "We should verify our dataset. There are a couple of methods and attributes in Pandas library for it. For example:"
   ]
  },
  {
   "cell_type": "code",
   "execution_count": 5,
   "id": "a47e622d",
   "metadata": {},
   "outputs": [
    {
     "data": {
      "text/plain": [
       "(408, 9)"
      ]
     },
     "execution_count": 5,
     "metadata": {},
     "output_type": "execute_result"
    }
   ],
   "source": [
    "dataset.shape  # to see the shape of our dataset"
   ]
  },
  {
   "cell_type": "code",
   "execution_count": 6,
   "id": "0c6112db",
   "metadata": {},
   "outputs": [
    {
     "data": {
      "text/plain": [
       "Month                 int64\n",
       "Starting Balance    float64\n",
       "Repayment           float64\n",
       "Interest Paid       float64\n",
       "Principal Paid      float64\n",
       "New Balance         float64\n",
       "term                  int64\n",
       "interest_rate       float64\n",
       "car_type             object\n",
       "dtype: object"
      ]
     },
     "execution_count": 6,
     "metadata": {},
     "output_type": "execute_result"
    }
   ],
   "source": [
    "dataset.dtypes  # to check the column data types"
   ]
  },
  {
   "cell_type": "code",
   "execution_count": 7,
   "id": "bfd41351",
   "metadata": {},
   "outputs": [
    {
     "name": "stdout",
     "output_type": "stream",
     "text": [
      "<class 'pandas.core.frame.DataFrame'>\n",
      "RangeIndex: 408 entries, 0 to 407\n",
      "Data columns (total 9 columns):\n",
      "Month               408 non-null int64\n",
      "Starting Balance    408 non-null float64\n",
      "Repayment           408 non-null float64\n",
      "Interest Paid       407 non-null float64\n",
      "Principal Paid      408 non-null float64\n",
      "New Balance         408 non-null float64\n",
      "term                408 non-null int64\n",
      "interest_rate       408 non-null float64\n",
      "car_type            408 non-null object\n",
      "dtypes: float64(6), int64(2), object(1)\n",
      "memory usage: 28.8+ KB\n"
     ]
    }
   ],
   "source": [
    "dataset.info()  # gives you number of non-null values in the each column"
   ]
  },
  {
   "cell_type": "markdown",
   "id": "8f150dc1",
   "metadata": {},
   "source": [
    "The last one is important to do because null values are not preferred for data analysis or visualization tasks. Here we have one null value in tje Interested Paid column. We will look at it in Missing Data section in detail."
   ]
  },
  {
   "cell_type": "markdown",
   "id": "a4c0d831",
   "metadata": {},
   "source": [
    "### Slicing"
   ]
  },
  {
   "cell_type": "markdown",
   "id": "e65b3261",
   "metadata": {},
   "source": [
    "When we have a large dataset (which will be oftentimes), we can work on a smaller subset of it. For this, we can use following slicing techniques:"
   ]
  },
  {
   "cell_type": "code",
   "execution_count": 8,
   "id": "da4f1a62",
   "metadata": {},
   "outputs": [
    {
     "data": {
      "text/html": [
       "<div>\n",
       "<style scoped>\n",
       "    .dataframe tbody tr th:only-of-type {\n",
       "        vertical-align: middle;\n",
       "    }\n",
       "\n",
       "    .dataframe tbody tr th {\n",
       "        vertical-align: top;\n",
       "    }\n",
       "\n",
       "    .dataframe thead th {\n",
       "        text-align: right;\n",
       "    }\n",
       "</style>\n",
       "<table border=\"1\" class=\"dataframe\">\n",
       "  <thead>\n",
       "    <tr style=\"text-align: right;\">\n",
       "      <th></th>\n",
       "      <th>car_type</th>\n",
       "    </tr>\n",
       "  </thead>\n",
       "  <tbody>\n",
       "    <tr>\n",
       "      <th>403</th>\n",
       "      <td>VW Golf R</td>\n",
       "    </tr>\n",
       "    <tr>\n",
       "      <th>404</th>\n",
       "      <td>VW Golf R</td>\n",
       "    </tr>\n",
       "    <tr>\n",
       "      <th>405</th>\n",
       "      <td>VW Golf R</td>\n",
       "    </tr>\n",
       "    <tr>\n",
       "      <th>406</th>\n",
       "      <td>VW Golf R</td>\n",
       "    </tr>\n",
       "    <tr>\n",
       "      <th>407</th>\n",
       "      <td>VW Golf R</td>\n",
       "    </tr>\n",
       "  </tbody>\n",
       "</table>\n",
       "</div>"
      ],
      "text/plain": [
       "      car_type\n",
       "403  VW Golf R\n",
       "404  VW Golf R\n",
       "405  VW Golf R\n",
       "406  VW Golf R\n",
       "407  VW Golf R"
      ]
     },
     "execution_count": 8,
     "metadata": {},
     "output_type": "execute_result"
    }
   ],
   "source": [
    "dataset[['car_type']].tail()  # select one column, tail takes 5 default"
   ]
  },
  {
   "cell_type": "code",
   "execution_count": 9,
   "id": "81d144ef",
   "metadata": {},
   "outputs": [
    {
     "data": {
      "text/html": [
       "<div>\n",
       "<style scoped>\n",
       "    .dataframe tbody tr th:only-of-type {\n",
       "        vertical-align: middle;\n",
       "    }\n",
       "\n",
       "    .dataframe tbody tr th {\n",
       "        vertical-align: top;\n",
       "    }\n",
       "\n",
       "    .dataframe thead th {\n",
       "        text-align: right;\n",
       "    }\n",
       "</style>\n",
       "<table border=\"1\" class=\"dataframe\">\n",
       "  <thead>\n",
       "    <tr style=\"text-align: right;\">\n",
       "      <th></th>\n",
       "      <th>car_type</th>\n",
       "      <th>Principal Paid</th>\n",
       "    </tr>\n",
       "  </thead>\n",
       "  <tbody>\n",
       "    <tr>\n",
       "      <th>403</th>\n",
       "      <td>VW Golf R</td>\n",
       "      <td>786.47</td>\n",
       "    </tr>\n",
       "    <tr>\n",
       "      <th>404</th>\n",
       "      <td>VW Golf R</td>\n",
       "      <td>788.37</td>\n",
       "    </tr>\n",
       "    <tr>\n",
       "      <th>405</th>\n",
       "      <td>VW Golf R</td>\n",
       "      <td>790.27</td>\n",
       "    </tr>\n",
       "    <tr>\n",
       "      <th>406</th>\n",
       "      <td>VW Golf R</td>\n",
       "      <td>792.18</td>\n",
       "    </tr>\n",
       "    <tr>\n",
       "      <th>407</th>\n",
       "      <td>VW Golf R</td>\n",
       "      <td>794.10</td>\n",
       "    </tr>\n",
       "  </tbody>\n",
       "</table>\n",
       "</div>"
      ],
      "text/plain": [
       "      car_type  Principal Paid\n",
       "403  VW Golf R          786.47\n",
       "404  VW Golf R          788.37\n",
       "405  VW Golf R          790.27\n",
       "406  VW Golf R          792.18\n",
       "407  VW Golf R          794.10"
      ]
     },
     "execution_count": 9,
     "metadata": {},
     "output_type": "execute_result"
    }
   ],
   "source": [
    "dataset[['car_type', 'Principal Paid']].tail()  # select multiple columns"
   ]
  },
  {
   "cell_type": "code",
   "execution_count": 10,
   "id": "46d95d68",
   "metadata": {},
   "outputs": [
    {
     "data": {
      "text/plain": [
       "0    Toyota Sienna\n",
       "1    Toyota Sienna\n",
       "2    Toyota Sienna\n",
       "3    Toyota Sienna\n",
       "4    Toyota Sienna\n",
       "Name: car_type, dtype: object"
      ]
     },
     "execution_count": 10,
     "metadata": {},
     "output_type": "execute_result"
    }
   ],
   "source": [
    "dataset['car_type'].head()  # if we use single brackets, we get Pandas series"
   ]
  },
  {
   "cell_type": "code",
   "execution_count": 11,
   "id": "65440aa6",
   "metadata": {},
   "outputs": [
    {
     "data": {
      "text/plain": [
       "pandas.core.series.Series"
      ]
     },
     "execution_count": 11,
     "metadata": {},
     "output_type": "execute_result"
    }
   ],
   "source": [
    "type(dataset['car_type'].head())  # type is Pandas series"
   ]
  },
  {
   "cell_type": "markdown",
   "id": "817f3ee4",
   "metadata": {},
   "source": [
    "We cannot select multiple columns using single brackets. \n",
    "\n",
    "With Pandas series, we can select rows using slicing:"
   ]
  },
  {
   "cell_type": "code",
   "execution_count": 12,
   "id": "b585caeb",
   "metadata": {},
   "outputs": [
    {
     "data": {
      "text/plain": [
       "3    Toyota Sienna\n",
       "4    Toyota Sienna\n",
       "5    Toyota Sienna\n",
       "6    Toyota Sienna\n",
       "7    Toyota Sienna\n",
       "8    Toyota Sienna\n",
       "Name: car_type, dtype: object"
      ]
     },
     "execution_count": 12,
     "metadata": {},
     "output_type": "execute_result"
    }
   ],
   "source": [
    "dataset['car_type'][3:9]   # series[start_index:end_index] "
   ]
  },
  {
   "cell_type": "markdown",
   "id": "35d3d8dc",
   "metadata": {},
   "source": [
    "### Filtering"
   ]
  },
  {
   "cell_type": "markdown",
   "id": "d2a713e8",
   "metadata": {},
   "source": [
    "We can filter out the data using filtering techniques. "
   ]
  },
  {
   "cell_type": "code",
   "execution_count": 13,
   "id": "924d2505",
   "metadata": {},
   "outputs": [
    {
     "data": {
      "text/plain": [
       "VW Golf R         144\n",
       "Toyota Sienna     120\n",
       "Toyota Carolla    111\n",
       "Toyota Corolla     33\n",
       "Name: car_type, dtype: int64"
      ]
     },
     "execution_count": 13,
     "metadata": {},
     "output_type": "execute_result"
    }
   ],
   "source": [
    "dataset['car_type'].value_counts()  # to see what kind of cars we have"
   ]
  },
  {
   "cell_type": "markdown",
   "id": "8cd32596",
   "metadata": {},
   "source": [
    "Here we can see that we have misspelling- Toyota Carolla instead of Toyota Corolla. "
   ]
  },
  {
   "cell_type": "code",
   "execution_count": 14,
   "id": "2259dd84",
   "metadata": {},
   "outputs": [
    {
     "data": {
      "text/plain": [
       "0    True\n",
       "1    True\n",
       "2    True\n",
       "3    True\n",
       "4    True\n",
       "Name: car_type, dtype: bool"
      ]
     },
     "execution_count": 14,
     "metadata": {},
     "output_type": "execute_result"
    }
   ],
   "source": [
    "car_filter=dataset['car_type']=='Toyota Sienna'  # produces Pandas series with True or False values\n",
    "car_filter.head(5)"
   ]
  },
  {
   "cell_type": "markdown",
   "id": "e382b5c3",
   "metadata": {},
   "source": [
    "We can get observations only about Toyota Sienna using above car_filter:"
   ]
  },
  {
   "cell_type": "code",
   "execution_count": 15,
   "id": "52112ddf",
   "metadata": {},
   "outputs": [
    {
     "data": {
      "text/html": [
       "<div>\n",
       "<style scoped>\n",
       "    .dataframe tbody tr th:only-of-type {\n",
       "        vertical-align: middle;\n",
       "    }\n",
       "\n",
       "    .dataframe tbody tr th {\n",
       "        vertical-align: top;\n",
       "    }\n",
       "\n",
       "    .dataframe thead th {\n",
       "        text-align: right;\n",
       "    }\n",
       "</style>\n",
       "<table border=\"1\" class=\"dataframe\">\n",
       "  <thead>\n",
       "    <tr style=\"text-align: right;\">\n",
       "      <th></th>\n",
       "      <th>Month</th>\n",
       "      <th>Starting Balance</th>\n",
       "      <th>Repayment</th>\n",
       "      <th>Interest Paid</th>\n",
       "      <th>Principal Paid</th>\n",
       "      <th>New Balance</th>\n",
       "      <th>term</th>\n",
       "      <th>interest_rate</th>\n",
       "      <th>car_type</th>\n",
       "    </tr>\n",
       "  </thead>\n",
       "  <tbody>\n",
       "    <tr>\n",
       "      <th>0</th>\n",
       "      <td>1</td>\n",
       "      <td>34689.96</td>\n",
       "      <td>687.23</td>\n",
       "      <td>202.93</td>\n",
       "      <td>484.30</td>\n",
       "      <td>34205.66</td>\n",
       "      <td>60</td>\n",
       "      <td>0.0702</td>\n",
       "      <td>Toyota Sienna</td>\n",
       "    </tr>\n",
       "    <tr>\n",
       "      <th>1</th>\n",
       "      <td>2</td>\n",
       "      <td>34205.66</td>\n",
       "      <td>687.23</td>\n",
       "      <td>200.10</td>\n",
       "      <td>487.13</td>\n",
       "      <td>33718.53</td>\n",
       "      <td>60</td>\n",
       "      <td>0.0702</td>\n",
       "      <td>Toyota Sienna</td>\n",
       "    </tr>\n",
       "    <tr>\n",
       "      <th>2</th>\n",
       "      <td>3</td>\n",
       "      <td>33718.53</td>\n",
       "      <td>687.23</td>\n",
       "      <td>197.25</td>\n",
       "      <td>489.98</td>\n",
       "      <td>33228.55</td>\n",
       "      <td>60</td>\n",
       "      <td>0.0702</td>\n",
       "      <td>Toyota Sienna</td>\n",
       "    </tr>\n",
       "    <tr>\n",
       "      <th>3</th>\n",
       "      <td>4</td>\n",
       "      <td>33228.55</td>\n",
       "      <td>687.23</td>\n",
       "      <td>194.38</td>\n",
       "      <td>492.85</td>\n",
       "      <td>32735.70</td>\n",
       "      <td>60</td>\n",
       "      <td>0.0702</td>\n",
       "      <td>Toyota Sienna</td>\n",
       "    </tr>\n",
       "    <tr>\n",
       "      <th>4</th>\n",
       "      <td>5</td>\n",
       "      <td>32735.70</td>\n",
       "      <td>687.23</td>\n",
       "      <td>191.50</td>\n",
       "      <td>495.73</td>\n",
       "      <td>32239.97</td>\n",
       "      <td>60</td>\n",
       "      <td>0.0702</td>\n",
       "      <td>Toyota Sienna</td>\n",
       "    </tr>\n",
       "    <tr>\n",
       "      <th>...</th>\n",
       "      <td>...</td>\n",
       "      <td>...</td>\n",
       "      <td>...</td>\n",
       "      <td>...</td>\n",
       "      <td>...</td>\n",
       "      <td>...</td>\n",
       "      <td>...</td>\n",
       "      <td>...</td>\n",
       "      <td>...</td>\n",
       "    </tr>\n",
       "    <tr>\n",
       "      <th>115</th>\n",
       "      <td>56</td>\n",
       "      <td>3133.83</td>\n",
       "      <td>632.47</td>\n",
       "      <td>9.37</td>\n",
       "      <td>623.10</td>\n",
       "      <td>2510.73</td>\n",
       "      <td>60</td>\n",
       "      <td>0.0359</td>\n",
       "      <td>Toyota Sienna</td>\n",
       "    </tr>\n",
       "    <tr>\n",
       "      <th>116</th>\n",
       "      <td>57</td>\n",
       "      <td>2510.73</td>\n",
       "      <td>632.47</td>\n",
       "      <td>7.51</td>\n",
       "      <td>624.96</td>\n",
       "      <td>1885.77</td>\n",
       "      <td>60</td>\n",
       "      <td>0.0359</td>\n",
       "      <td>Toyota Sienna</td>\n",
       "    </tr>\n",
       "    <tr>\n",
       "      <th>117</th>\n",
       "      <td>58</td>\n",
       "      <td>1885.77</td>\n",
       "      <td>632.47</td>\n",
       "      <td>5.64</td>\n",
       "      <td>626.83</td>\n",
       "      <td>1258.94</td>\n",
       "      <td>60</td>\n",
       "      <td>0.0359</td>\n",
       "      <td>Toyota Sienna</td>\n",
       "    </tr>\n",
       "    <tr>\n",
       "      <th>118</th>\n",
       "      <td>59</td>\n",
       "      <td>1258.94</td>\n",
       "      <td>632.47</td>\n",
       "      <td>3.76</td>\n",
       "      <td>628.71</td>\n",
       "      <td>630.23</td>\n",
       "      <td>60</td>\n",
       "      <td>0.0359</td>\n",
       "      <td>Toyota Sienna</td>\n",
       "    </tr>\n",
       "    <tr>\n",
       "      <th>119</th>\n",
       "      <td>60</td>\n",
       "      <td>630.23</td>\n",
       "      <td>632.47</td>\n",
       "      <td>1.88</td>\n",
       "      <td>630.59</td>\n",
       "      <td>-0.36</td>\n",
       "      <td>60</td>\n",
       "      <td>0.0359</td>\n",
       "      <td>Toyota Sienna</td>\n",
       "    </tr>\n",
       "  </tbody>\n",
       "</table>\n",
       "<p>120 rows × 9 columns</p>\n",
       "</div>"
      ],
      "text/plain": [
       "     Month  Starting Balance  Repayment  Interest Paid  Principal Paid  \\\n",
       "0        1          34689.96     687.23         202.93          484.30   \n",
       "1        2          34205.66     687.23         200.10          487.13   \n",
       "2        3          33718.53     687.23         197.25          489.98   \n",
       "3        4          33228.55     687.23         194.38          492.85   \n",
       "4        5          32735.70     687.23         191.50          495.73   \n",
       "..     ...               ...        ...            ...             ...   \n",
       "115     56           3133.83     632.47           9.37          623.10   \n",
       "116     57           2510.73     632.47           7.51          624.96   \n",
       "117     58           1885.77     632.47           5.64          626.83   \n",
       "118     59           1258.94     632.47           3.76          628.71   \n",
       "119     60            630.23     632.47           1.88          630.59   \n",
       "\n",
       "     New Balance  term  interest_rate       car_type  \n",
       "0       34205.66    60         0.0702  Toyota Sienna  \n",
       "1       33718.53    60         0.0702  Toyota Sienna  \n",
       "2       33228.55    60         0.0702  Toyota Sienna  \n",
       "3       32735.70    60         0.0702  Toyota Sienna  \n",
       "4       32239.97    60         0.0702  Toyota Sienna  \n",
       "..           ...   ...            ...            ...  \n",
       "115      2510.73    60         0.0359  Toyota Sienna  \n",
       "116      1885.77    60         0.0359  Toyota Sienna  \n",
       "117      1258.94    60         0.0359  Toyota Sienna  \n",
       "118       630.23    60         0.0359  Toyota Sienna  \n",
       "119        -0.36    60         0.0359  Toyota Sienna  \n",
       "\n",
       "[120 rows x 9 columns]"
      ]
     },
     "execution_count": 15,
     "metadata": {},
     "output_type": "execute_result"
    }
   ],
   "source": [
    "dataset[car_filter]  # shows observations related to Toyota Sienna"
   ]
  },
  {
   "cell_type": "code",
   "execution_count": 16,
   "id": "e73e1cb4",
   "metadata": {},
   "outputs": [
    {
     "data": {
      "text/plain": [
       "Toyota Sienna    120\n",
       "Name: car_type, dtype: int64"
      ]
     },
     "execution_count": 16,
     "metadata": {},
     "output_type": "execute_result"
    }
   ],
   "source": [
    "dataset_sienna = dataset[car_filter]  # update the dataFrame after applying the filter\n",
    "dataset_sienna['car_type'].value_counts()  # shows that we have only the dataFrame of Toyota Sienna"
   ]
  },
  {
   "cell_type": "markdown",
   "id": "8ac2172f",
   "metadata": {},
   "source": [
    "### Renaming/Deleting Columns"
   ]
  },
  {
   "cell_type": "markdown",
   "id": "8eb3c76d",
   "metadata": {},
   "source": [
    "Sometimes we may want to change the name of the columns. For example, when we see car_type column, we can use the following code:"
   ]
  },
  {
   "cell_type": "code",
   "execution_count": 17,
   "id": "ab8aa023",
   "metadata": {},
   "outputs": [
    {
     "data": {
      "text/plain": [
       "0    Toyota Sienna\n",
       "1    Toyota Sienna\n",
       "2    Toyota Sienna\n",
       "3    Toyota Sienna\n",
       "4    Toyota Sienna\n",
       "Name: car_type, dtype: object"
      ]
     },
     "execution_count": 17,
     "metadata": {},
     "output_type": "execute_result"
    }
   ],
   "source": [
    "dataset.car_type.head()"
   ]
  },
  {
   "cell_type": "markdown",
   "id": "1eb0aeb6",
   "metadata": {},
   "source": [
    "However, if we want to see Interest Paid column, we cannot use this way because we have a space in the name and this will create error. You can try to see the error by uncommenting the following."
   ]
  },
  {
   "cell_type": "code",
   "execution_count": 18,
   "id": "fae8e613",
   "metadata": {},
   "outputs": [],
   "source": [
    "# dataset.Principal Paid.head()  # dataset['Principal Paid'].head() would work here"
   ]
  },
  {
   "cell_type": "markdown",
   "id": "25af4775",
   "metadata": {},
   "source": [
    "Therefore, we may want to change the name of the columns. One approach to change the name of the columns is the dictionary substitution using rename method:"
   ]
  },
  {
   "cell_type": "code",
   "execution_count": 19,
   "id": "3c878856",
   "metadata": {},
   "outputs": [],
   "source": [
    "dataset_rn = dataset.rename(columns={'Starting Balance': 'starting_balance',\n",
    "                                  'Interest Paid' : 'interest_paid',\n",
    "                                  'Principal Paid': 'principal_paid',\n",
    "                                  'New Balance': 'new_balance'})"
   ]
  },
  {
   "cell_type": "code",
   "execution_count": 20,
   "id": "6cc53dba",
   "metadata": {},
   "outputs": [
    {
     "data": {
      "text/plain": [
       "Index(['Month', 'starting_balance', 'Repayment', 'interest_paid',\n",
       "       'principal_paid', 'new_balance', 'term', 'interest_rate', 'car_type'],\n",
       "      dtype='object')"
      ]
     },
     "execution_count": 20,
     "metadata": {},
     "output_type": "execute_result"
    }
   ],
   "source": [
    "dataset_rn.columns  # to check whether the names of the columns changed"
   ]
  },
  {
   "cell_type": "markdown",
   "id": "c07c8013",
   "metadata": {},
   "source": [
    "We can delete the columns using one of the two approaches. "
   ]
  },
  {
   "cell_type": "code",
   "execution_count": 21,
   "id": "fc16e231",
   "metadata": {},
   "outputs": [
    {
     "data": {
      "text/plain": [
       "Index(['Month', 'Starting Balance', 'Interest Paid', 'Principal Paid',\n",
       "       'New Balance', 'term', 'interest_rate', 'car_type'],\n",
       "      dtype='object')"
      ]
     },
     "execution_count": 21,
     "metadata": {},
     "output_type": "execute_result"
    }
   ],
   "source": [
    "del_dataset = dataset.drop(columns={'Repayment'})  # we can drop multiple columns\n",
    "del_dataset.columns"
   ]
  },
  {
   "cell_type": "code",
   "execution_count": 22,
   "id": "12b8102e",
   "metadata": {},
   "outputs": [
    {
     "data": {
      "text/plain": [
       "Index(['Starting Balance', 'Interest Paid', 'Principal Paid', 'New Balance',\n",
       "       'term', 'interest_rate', 'car_type'],\n",
       "      dtype='object')"
      ]
     },
     "execution_count": 22,
     "metadata": {},
     "output_type": "execute_result"
    }
   ],
   "source": [
    "del del_dataset['Month'] \n",
    "del_dataset.columns"
   ]
  },
  {
   "cell_type": "markdown",
   "id": "69880791",
   "metadata": {},
   "source": [
    "### Missing Data"
   ]
  },
  {
   "cell_type": "markdown",
   "id": "48190aa2",
   "metadata": {},
   "source": [
    "Before we graph data, we need to be sure there are no missing values like null, False, N/A, empty string. In Pandas, missing values are called NaN or None. \n",
    "\n",
    "If we have one of them in a row, then we should remove that row or fill in the missing data with a reasonable value. The _**isna**_ and _**isnull**_ methods can be used to indicate where the values in the DataFrame are missing. They are exaclty same methods. They return True if we have a missing value.\n"
   ]
  },
  {
   "cell_type": "code",
   "execution_count": 23,
   "id": "a1913c13",
   "metadata": {},
   "outputs": [
    {
     "data": {
      "text/html": [
       "<div>\n",
       "<style scoped>\n",
       "    .dataframe tbody tr th:only-of-type {\n",
       "        vertical-align: middle;\n",
       "    }\n",
       "\n",
       "    .dataframe tbody tr th {\n",
       "        vertical-align: top;\n",
       "    }\n",
       "\n",
       "    .dataframe thead th {\n",
       "        text-align: right;\n",
       "    }\n",
       "</style>\n",
       "<table border=\"1\" class=\"dataframe\">\n",
       "  <thead>\n",
       "    <tr style=\"text-align: right;\">\n",
       "      <th></th>\n",
       "      <th>Month</th>\n",
       "      <th>Starting Balance</th>\n",
       "      <th>Repayment</th>\n",
       "      <th>Interest Paid</th>\n",
       "      <th>Principal Paid</th>\n",
       "      <th>New Balance</th>\n",
       "      <th>term</th>\n",
       "      <th>interest_rate</th>\n",
       "      <th>car_type</th>\n",
       "    </tr>\n",
       "  </thead>\n",
       "  <tbody>\n",
       "    <tr>\n",
       "      <th>34</th>\n",
       "      <td>35</td>\n",
       "      <td>16530.59</td>\n",
       "      <td>687.23</td>\n",
       "      <td>NaN</td>\n",
       "      <td>590.53</td>\n",
       "      <td>15940.06</td>\n",
       "      <td>60</td>\n",
       "      <td>0.0702</td>\n",
       "      <td>Toyota Sienna</td>\n",
       "    </tr>\n",
       "  </tbody>\n",
       "</table>\n",
       "</div>"
      ],
      "text/plain": [
       "    Month  Starting Balance  Repayment  Interest Paid  Principal Paid  \\\n",
       "34     35          16530.59     687.23            NaN          590.53   \n",
       "\n",
       "    New Balance  term  interest_rate       car_type  \n",
       "34     15940.06    60         0.0702  Toyota Sienna  "
      ]
     },
     "execution_count": 23,
     "metadata": {},
     "output_type": "execute_result"
    }
   ],
   "source": [
    "interest_missing = dataset['Interest Paid'].isnull()  # produces Panda series with True and False\n",
    "dataset[interest_missing]  # shows the location of the missing value (we filter it)"
   ]
  },
  {
   "cell_type": "code",
   "execution_count": 24,
   "id": "83a6c24f",
   "metadata": {},
   "outputs": [
    {
     "data": {
      "text/html": [
       "<div>\n",
       "<style scoped>\n",
       "    .dataframe tbody tr th:only-of-type {\n",
       "        vertical-align: middle;\n",
       "    }\n",
       "\n",
       "    .dataframe tbody tr th {\n",
       "        vertical-align: top;\n",
       "    }\n",
       "\n",
       "    .dataframe thead th {\n",
       "        text-align: right;\n",
       "    }\n",
       "</style>\n",
       "<table border=\"1\" class=\"dataframe\">\n",
       "  <thead>\n",
       "    <tr style=\"text-align: right;\">\n",
       "      <th></th>\n",
       "      <th>Month</th>\n",
       "      <th>Starting Balance</th>\n",
       "      <th>Repayment</th>\n",
       "      <th>Interest Paid</th>\n",
       "      <th>Principal Paid</th>\n",
       "      <th>New Balance</th>\n",
       "      <th>term</th>\n",
       "      <th>interest_rate</th>\n",
       "      <th>car_type</th>\n",
       "    </tr>\n",
       "  </thead>\n",
       "  <tbody>\n",
       "    <tr>\n",
       "      <th>32</th>\n",
       "      <td>33</td>\n",
       "      <td>17701.37</td>\n",
       "      <td>687.23</td>\n",
       "      <td>103.55</td>\n",
       "      <td>583.68</td>\n",
       "      <td>17117.69</td>\n",
       "      <td>60</td>\n",
       "      <td>0.0702</td>\n",
       "      <td>Toyota Sienna</td>\n",
       "    </tr>\n",
       "    <tr>\n",
       "      <th>33</th>\n",
       "      <td>34</td>\n",
       "      <td>17117.69</td>\n",
       "      <td>687.23</td>\n",
       "      <td>100.13</td>\n",
       "      <td>587.10</td>\n",
       "      <td>16530.59</td>\n",
       "      <td>60</td>\n",
       "      <td>0.0702</td>\n",
       "      <td>Toyota Sienna</td>\n",
       "    </tr>\n",
       "    <tr>\n",
       "      <th>35</th>\n",
       "      <td>36</td>\n",
       "      <td>15940.06</td>\n",
       "      <td>687.23</td>\n",
       "      <td>93.24</td>\n",
       "      <td>593.99</td>\n",
       "      <td>15346.07</td>\n",
       "      <td>60</td>\n",
       "      <td>0.0702</td>\n",
       "      <td>Toyota Sienna</td>\n",
       "    </tr>\n",
       "    <tr>\n",
       "      <th>36</th>\n",
       "      <td>37</td>\n",
       "      <td>15346.07</td>\n",
       "      <td>687.23</td>\n",
       "      <td>89.77</td>\n",
       "      <td>597.46</td>\n",
       "      <td>14748.61</td>\n",
       "      <td>60</td>\n",
       "      <td>0.0702</td>\n",
       "      <td>Toyota Sienna</td>\n",
       "    </tr>\n",
       "    <tr>\n",
       "      <th>37</th>\n",
       "      <td>38</td>\n",
       "      <td>14748.61</td>\n",
       "      <td>687.23</td>\n",
       "      <td>86.27</td>\n",
       "      <td>600.96</td>\n",
       "      <td>14147.65</td>\n",
       "      <td>60</td>\n",
       "      <td>0.0702</td>\n",
       "      <td>Toyota Sienna</td>\n",
       "    </tr>\n",
       "  </tbody>\n",
       "</table>\n",
       "</div>"
      ],
      "text/plain": [
       "    Month  Starting Balance  Repayment  Interest Paid  Principal Paid  \\\n",
       "32     33          17701.37     687.23         103.55          583.68   \n",
       "33     34          17117.69     687.23         100.13          587.10   \n",
       "35     36          15940.06     687.23          93.24          593.99   \n",
       "36     37          15346.07     687.23          89.77          597.46   \n",
       "37     38          14748.61     687.23          86.27          600.96   \n",
       "\n",
       "    New Balance  term  interest_rate       car_type  \n",
       "32     17117.69    60         0.0702  Toyota Sienna  \n",
       "33     16530.59    60         0.0702  Toyota Sienna  \n",
       "35     15346.07    60         0.0702  Toyota Sienna  \n",
       "36     14748.61    60         0.0702  Toyota Sienna  \n",
       "37     14147.65    60         0.0702  Toyota Sienna  "
      ]
     },
     "execution_count": 24,
     "metadata": {},
     "output_type": "execute_result"
    }
   ],
   "source": [
    "dataset[~interest_missing][32:37]  # shows the rows which don't have any missing value"
   ]
  },
  {
   "cell_type": "code",
   "execution_count": 25,
   "id": "33c29d38",
   "metadata": {},
   "outputs": [
    {
     "data": {
      "text/plain": [
       "1"
      ]
     },
     "execution_count": 25,
     "metadata": {},
     "output_type": "execute_result"
    }
   ],
   "source": [
    "dataset['Interest Paid'].isnull().sum()  # counts the number of missing values"
   ]
  },
  {
   "cell_type": "markdown",
   "id": "dc8aef79",
   "metadata": {},
   "source": [
    "We can remove missing values by using the _**dropna**_ method. However, deleting the entire row may not be the best strategy for our dataset. "
   ]
  },
  {
   "cell_type": "code",
   "execution_count": 26,
   "id": "15bd3305",
   "metadata": {},
   "outputs": [
    {
     "data": {
      "text/plain": [
       "32    103.55\n",
       "33    100.13\n",
       "35     93.24\n",
       "36     89.77\n",
       "37     86.27\n",
       "Name: Interest Paid, dtype: float64"
      ]
     },
     "execution_count": 26,
     "metadata": {},
     "output_type": "execute_result"
    }
   ],
   "source": [
    "drop_mv = dataset.dropna(how='any')  # drop entire row if it contains any NaNs \n",
    "drop_mv['Interest Paid'][32:37]  # shows that it drops the row 34"
   ]
  },
  {
   "cell_type": "markdown",
   "id": "4ee17fca",
   "metadata": {},
   "source": [
    "We can fill in the NaN value with a value. For this, we can use _**fillna()**_ method. "
   ]
  },
  {
   "cell_type": "code",
   "execution_count": 27,
   "id": "151c5efa",
   "metadata": {},
   "outputs": [
    {
     "data": {
      "text/plain": [
       "32    103.55\n",
       "33    100.13\n",
       "34      0.00\n",
       "35     93.24\n",
       "36     89.77\n",
       "Name: Interest Paid, dtype: float64"
      ]
     },
     "execution_count": 27,
     "metadata": {},
     "output_type": "execute_result"
    }
   ],
   "source": [
    "fill_mv = dataset.fillna(0)  # filling in the nan value with zero, it is not recommended\n",
    "fill_mv['Interest Paid'][32:37]"
   ]
  },
  {
   "cell_type": "markdown",
   "id": "07ca114a",
   "metadata": {},
   "source": [
    "Another approach is to fill in with the _**bfill()**_ method. Back fill looks for the next row's value and changes NaN with that value. This is commanly done when we have time series data. "
   ]
  },
  {
   "cell_type": "code",
   "execution_count": 28,
   "id": "8f2f155b",
   "metadata": {},
   "outputs": [
    {
     "data": {
      "text/plain": [
       "32    103.55\n",
       "33    100.13\n",
       "34     93.24\n",
       "35     93.24\n",
       "36     89.77\n",
       "Name: Interest Paid, dtype: float64"
      ]
     },
     "execution_count": 28,
     "metadata": {},
     "output_type": "execute_result"
    }
   ],
   "source": [
    "bfill_mv = dataset.bfill()  # looks for the next row and takes that value for NaN \n",
    "bfill_mv['Interest Paid'][32:37]  # shows that the values of 35 and 34 are same"
   ]
  },
  {
   "cell_type": "markdown",
   "id": "e1ff59d5",
   "metadata": {},
   "source": [
    "Another way is to forward fill in the value with _**ffill()**_ method. Forward fill looks for the previous row's value and takes and inserts it at the value that is missing. "
   ]
  },
  {
   "cell_type": "code",
   "execution_count": 29,
   "id": "096fd69e",
   "metadata": {},
   "outputs": [
    {
     "data": {
      "text/plain": [
       "32    103.55\n",
       "33    100.13\n",
       "34    100.13\n",
       "35     93.24\n",
       "36     89.77\n",
       "Name: Interest Paid, dtype: float64"
      ]
     },
     "execution_count": 29,
     "metadata": {},
     "output_type": "execute_result"
    }
   ],
   "source": [
    "ffill_mv = dataset.ffill()  # looks for the previous row and takes that value for NaN\n",
    "ffill_mv['Interest Paid'][32:37]  # shows that the values 33 and 34 are same"
   ]
  },
  {
   "cell_type": "markdown",
   "id": "975aaf00",
   "metadata": {},
   "source": [
    "These techniques are called _**data imputation**_.\n",
    "\n",
    "Another way to fill in the missing values is through linear interpolation using _**interpolate**_ method. "
   ]
  },
  {
   "cell_type": "code",
   "execution_count": 30,
   "id": "8b8a6397",
   "metadata": {},
   "outputs": [
    {
     "data": {
      "text/plain": [
       "32    103.550\n",
       "33    100.130\n",
       "34     96.685\n",
       "35     93.240\n",
       "36     89.770\n",
       "Name: Interest Paid, dtype: float64"
      ]
     },
     "execution_count": 30,
     "metadata": {},
     "output_type": "execute_result"
    }
   ],
   "source": [
    "linear_mv = dataset.interpolate(method = 'linear')  # uses linear model to fill in the NaN \n",
    "linear_mv['Interest Paid'][32:37]  # shows that the value is the average of 33 and 35"
   ]
  },
  {
   "cell_type": "markdown",
   "id": "0da287ba",
   "metadata": {},
   "source": [
    "The sum() method ignores NaN values. However, after filling in the missing values with a real value, sum will change: "
   ]
  },
  {
   "cell_type": "code",
   "execution_count": 31,
   "id": "3b437c34",
   "metadata": {},
   "outputs": [
    {
     "name": "stdout",
     "output_type": "stream",
     "text": [
      "Sum before filling in: 9704.69\n",
      "Sum after filling in: 9801.375\n"
     ]
    }
   ],
   "source": [
    "sienna_dataset = dataset['car_type']=='Toyota Sienna'\n",
    "sienna_dataset = dataset[sienna_dataset]\n",
    "print(\"Sum before filling in:\", sienna_dataset['Interest Paid'].sum())\n",
    "\n",
    "linear_mv = sienna_dataset.interpolate(method = 'linear')\n",
    "print(\"Sum after filling in:\", linear_mv['Interest Paid'].sum())"
   ]
  },
  {
   "cell_type": "markdown",
   "id": "e8b0be4d",
   "metadata": {},
   "source": [
    "I think linear method makes sense more. The final dataset will be following and there is no any missing value in the dataset anymore:"
   ]
  },
  {
   "cell_type": "code",
   "execution_count": 32,
   "id": "c7a82651",
   "metadata": {},
   "outputs": [
    {
     "name": "stdout",
     "output_type": "stream",
     "text": [
      "<class 'pandas.core.frame.DataFrame'>\n",
      "RangeIndex: 408 entries, 0 to 407\n",
      "Data columns (total 9 columns):\n",
      "Month               408 non-null int64\n",
      "Starting Balance    408 non-null float64\n",
      "Repayment           408 non-null float64\n",
      "Interest Paid       408 non-null float64\n",
      "Principal Paid      408 non-null float64\n",
      "New Balance         408 non-null float64\n",
      "term                408 non-null int64\n",
      "interest_rate       408 non-null float64\n",
      "car_type            408 non-null object\n",
      "dtypes: float64(6), int64(2), object(1)\n",
      "memory usage: 28.8+ KB\n"
     ]
    }
   ],
   "source": [
    "dataset = dataset.interpolate(method = 'linear')\n",
    "dataset.info()"
   ]
  }
 ],
 "metadata": {
  "kernelspec": {
   "display_name": "Python 3",
   "language": "python",
   "name": "python3"
  },
  "language_info": {
   "codemirror_mode": {
    "name": "ipython",
    "version": 3
   },
   "file_extension": ".py",
   "mimetype": "text/x-python",
   "name": "python",
   "nbconvert_exporter": "python",
   "pygments_lexer": "ipython3",
   "version": "3.7.10"
  }
 },
 "nbformat": 4,
 "nbformat_minor": 5
}
