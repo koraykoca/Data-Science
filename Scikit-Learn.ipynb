{
 "cells": [
  {
   "cell_type": "markdown",
   "id": "1989438c",
   "metadata": {},
   "source": [
    "# Machine Learning with Scikit-Learn"
   ]
  },
  {
   "cell_type": "markdown",
   "id": "9fb9c953",
   "metadata": {},
   "source": [
    "Scikit-Learn is a machine learning Python library which provides a large amount of machine learning algorithms. All machine learning models are implemented as Python classes. It makes easy to train models and switch between different algorithms. \n",
    "\n",
    "Before fitting a model with sckit-learn, our data has to be in a recognizable format. Sckit-Learn works well with NumPy arrays.There we will convert Pandas DataFrames to NumPy arrays.\n",
    "\n",
    "Sckit-Learn expects Features matrix and Target vector. In 2D Features matrix, rows represent samples and columns represent features. Target vector is usually 1D vector and represent labels. \n",
    "\n",
    "First we need to import sckit-learn library to start working with it. Then we will import the boston dataset which comes with the scikit-learn library. "
   ]
  },
  {
   "cell_type": "code",
   "execution_count": 1,
   "id": "4064848c",
   "metadata": {},
   "outputs": [],
   "source": [
    "#!pip install -U scikit-learn\n",
    "\n",
    "import sklearn\n",
    "from sklearn.datasets import load_boston\n",
    "\n",
    "import pandas as pd"
   ]
  },
  {
   "cell_type": "code",
   "execution_count": 2,
   "id": "a63f4862",
   "metadata": {},
   "outputs": [
    {
     "data": {
      "text/html": [
       "<div>\n",
       "<style scoped>\n",
       "    .dataframe tbody tr th:only-of-type {\n",
       "        vertical-align: middle;\n",
       "    }\n",
       "\n",
       "    .dataframe tbody tr th {\n",
       "        vertical-align: top;\n",
       "    }\n",
       "\n",
       "    .dataframe thead th {\n",
       "        text-align: right;\n",
       "    }\n",
       "</style>\n",
       "<table border=\"1\" class=\"dataframe\">\n",
       "  <thead>\n",
       "    <tr style=\"text-align: right;\">\n",
       "      <th></th>\n",
       "      <th>CRIM</th>\n",
       "      <th>ZN</th>\n",
       "      <th>INDUS</th>\n",
       "      <th>CHAS</th>\n",
       "      <th>NOX</th>\n",
       "      <th>RM</th>\n",
       "      <th>AGE</th>\n",
       "      <th>DIS</th>\n",
       "      <th>RAD</th>\n",
       "      <th>TAX</th>\n",
       "      <th>PTRATIO</th>\n",
       "      <th>B</th>\n",
       "      <th>LSTAT</th>\n",
       "      <th>target</th>\n",
       "    </tr>\n",
       "  </thead>\n",
       "  <tbody>\n",
       "    <tr>\n",
       "      <th>0</th>\n",
       "      <td>0.00632</td>\n",
       "      <td>18.0</td>\n",
       "      <td>2.31</td>\n",
       "      <td>0.0</td>\n",
       "      <td>0.538</td>\n",
       "      <td>6.575</td>\n",
       "      <td>65.2</td>\n",
       "      <td>4.0900</td>\n",
       "      <td>1.0</td>\n",
       "      <td>296.0</td>\n",
       "      <td>15.3</td>\n",
       "      <td>396.90</td>\n",
       "      <td>4.98</td>\n",
       "      <td>24.0</td>\n",
       "    </tr>\n",
       "    <tr>\n",
       "      <th>1</th>\n",
       "      <td>0.02731</td>\n",
       "      <td>0.0</td>\n",
       "      <td>7.07</td>\n",
       "      <td>0.0</td>\n",
       "      <td>0.469</td>\n",
       "      <td>6.421</td>\n",
       "      <td>78.9</td>\n",
       "      <td>4.9671</td>\n",
       "      <td>2.0</td>\n",
       "      <td>242.0</td>\n",
       "      <td>17.8</td>\n",
       "      <td>396.90</td>\n",
       "      <td>9.14</td>\n",
       "      <td>21.6</td>\n",
       "    </tr>\n",
       "    <tr>\n",
       "      <th>2</th>\n",
       "      <td>0.02729</td>\n",
       "      <td>0.0</td>\n",
       "      <td>7.07</td>\n",
       "      <td>0.0</td>\n",
       "      <td>0.469</td>\n",
       "      <td>7.185</td>\n",
       "      <td>61.1</td>\n",
       "      <td>4.9671</td>\n",
       "      <td>2.0</td>\n",
       "      <td>242.0</td>\n",
       "      <td>17.8</td>\n",
       "      <td>392.83</td>\n",
       "      <td>4.03</td>\n",
       "      <td>34.7</td>\n",
       "    </tr>\n",
       "    <tr>\n",
       "      <th>3</th>\n",
       "      <td>0.03237</td>\n",
       "      <td>0.0</td>\n",
       "      <td>2.18</td>\n",
       "      <td>0.0</td>\n",
       "      <td>0.458</td>\n",
       "      <td>6.998</td>\n",
       "      <td>45.8</td>\n",
       "      <td>6.0622</td>\n",
       "      <td>3.0</td>\n",
       "      <td>222.0</td>\n",
       "      <td>18.7</td>\n",
       "      <td>394.63</td>\n",
       "      <td>2.94</td>\n",
       "      <td>33.4</td>\n",
       "    </tr>\n",
       "    <tr>\n",
       "      <th>4</th>\n",
       "      <td>0.06905</td>\n",
       "      <td>0.0</td>\n",
       "      <td>2.18</td>\n",
       "      <td>0.0</td>\n",
       "      <td>0.458</td>\n",
       "      <td>7.147</td>\n",
       "      <td>54.2</td>\n",
       "      <td>6.0622</td>\n",
       "      <td>3.0</td>\n",
       "      <td>222.0</td>\n",
       "      <td>18.7</td>\n",
       "      <td>396.90</td>\n",
       "      <td>5.33</td>\n",
       "      <td>36.2</td>\n",
       "    </tr>\n",
       "  </tbody>\n",
       "</table>\n",
       "</div>"
      ],
      "text/plain": [
       "      CRIM    ZN  INDUS  CHAS    NOX     RM   AGE     DIS  RAD    TAX  \\\n",
       "0  0.00632  18.0   2.31   0.0  0.538  6.575  65.2  4.0900  1.0  296.0   \n",
       "1  0.02731   0.0   7.07   0.0  0.469  6.421  78.9  4.9671  2.0  242.0   \n",
       "2  0.02729   0.0   7.07   0.0  0.469  7.185  61.1  4.9671  2.0  242.0   \n",
       "3  0.03237   0.0   2.18   0.0  0.458  6.998  45.8  6.0622  3.0  222.0   \n",
       "4  0.06905   0.0   2.18   0.0  0.458  7.147  54.2  6.0622  3.0  222.0   \n",
       "\n",
       "   PTRATIO       B  LSTAT  target  \n",
       "0     15.3  396.90   4.98    24.0  \n",
       "1     17.8  396.90   9.14    21.6  \n",
       "2     17.8  392.83   4.03    34.7  \n",
       "3     18.7  394.63   2.94    33.4  \n",
       "4     18.7  396.90   5.33    36.2  "
      ]
     },
     "execution_count": 2,
     "metadata": {},
     "output_type": "execute_result"
    }
   ],
   "source": [
    "data = load_boston() # load boston house price dataset\n",
    "df = pd.DataFrame(data.data, columns=data.feature_names) # convert dataset to Pandas DataFrame\n",
    "df['target'] = data.target # arrange target vector\n",
    "df.head() # look at the first 5 observations of the dataset"
   ]
  },
  {
   "cell_type": "markdown",
   "id": "a0c68186",
   "metadata": {},
   "source": [
    "Now, we will arrange the features matrix. We will take all columns except target column."
   ]
  },
  {
   "cell_type": "code",
   "execution_count": 3,
   "id": "d30763ed",
   "metadata": {},
   "outputs": [
    {
     "data": {
      "text/plain": [
       "(506, 13)"
      ]
     },
     "execution_count": 3,
     "metadata": {},
     "output_type": "execute_result"
    }
   ],
   "source": [
    "features = df.loc[:, df.columns[0:-1]].values  # Converting to NumPy array with values attribute\n",
    "features.shape  # confirm it is 2D array"
   ]
  },
  {
   "cell_type": "code",
   "execution_count": 4,
   "id": "0a0f8566",
   "metadata": {},
   "outputs": [
    {
     "data": {
      "text/plain": [
       "(506,)"
      ]
     },
     "execution_count": 4,
     "metadata": {},
     "output_type": "execute_result"
    }
   ],
   "source": [
    "targets = df.loc[:, 'target'].values  # Convert prices/target column to NumPy array\n",
    "targets.shape  # it is 1D in this case"
   ]
  },
  {
   "cell_type": "markdown",
   "id": "dbc81b42",
   "metadata": {},
   "source": [
    "Now, our data is ready to work with sckit-learn library. "
   ]
  },
  {
   "cell_type": "markdown",
   "id": "c3b93222",
   "metadata": {},
   "source": [
    "### Linear Regression using Scikit-Learn"
   ]
  },
  {
   "cell_type": "markdown",
   "id": "d14296f6",
   "metadata": {},
   "source": [
    "   Linear regression is used to predict a continuous value. Let's create a linear regression model for the boston house prices dataset using sckit-learn. First, we will import the necessary libraries:"
   ]
  },
  {
   "cell_type": "code",
   "execution_count": 5,
   "id": "1308004e",
   "metadata": {},
   "outputs": [],
   "source": [
    "from sklearn.model_selection import train_test_split\n",
    "from sklearn.linear_model import LinearRegression"
   ]
  },
  {
   "cell_type": "markdown",
   "id": "a8e71140",
   "metadata": {},
   "source": [
    "Then we will split our dataset into two pieces: training set and test set. The ratio can be 80% for training and %20 for test. "
   ]
  },
  {
   "cell_type": "code",
   "execution_count": 6,
   "id": "2bdc64dd",
   "metadata": {},
   "outputs": [],
   "source": [
    "features_train, features_test, targets_train, targets_test \\\n",
    "= train_test_split(features,targets,random_state = 3)"
   ]
  },
  {
   "cell_type": "code",
   "execution_count": 7,
   "id": "0e35b224",
   "metadata": {},
   "outputs": [
    {
     "name": "stdout",
     "output_type": "stream",
     "text": [
      "0.7668895327325096\n"
     ]
    }
   ],
   "source": [
    "reg = LinearRegression(fit_intercept=True)  # create a LinearRegression instance\n",
    "\n",
    "reg.fit(features_train,targets_train)  # train the model on the training set\n",
    "\n",
    "score = reg.score(features_test, targets_test)  # print the score acc. to test set\n",
    "print(score)"
   ]
  },
  {
   "cell_type": "markdown",
   "id": "817d5a66",
   "metadata": {},
   "source": [
    "### Logistic Regression using Scikit-Learn"
   ]
  },
  {
   "cell_type": "markdown",
   "id": "d6d8bd4c",
   "metadata": {},
   "source": [
    "Logistic regression is a model used for classification. Let's create Logistic regression model for the iris dataset. "
   ]
  },
  {
   "cell_type": "code",
   "execution_count": 8,
   "id": "0537ee20",
   "metadata": {},
   "outputs": [],
   "source": [
    "from sklearn.datasets import load_iris  \n",
    "from sklearn.linear_model import LogisticRegression  \n",
    "from sklearn.preprocessing import StandardScaler"
   ]
  },
  {
   "cell_type": "code",
   "execution_count": 9,
   "id": "7e59ae3a",
   "metadata": {},
   "outputs": [],
   "source": [
    "iris_data = load_iris()\n",
    "iris_df = pd.DataFrame(iris_data.data, columns=iris_data.feature_names)\n",
    "iris_df['species'] = iris_data.target\n",
    "\n",
    "iris_ftr = iris_df.loc[:, iris_df.columns[0:-1]].values  # take all columns except species(target), iris_df[iris_data.feature_names] would also work\n",
    "iris_tar = iris_df.loc[:, iris_df.columns[-1]].values  # take only last(target) column, iris_df['species'] would also work\n",
    "\n",
    "\n",
    "iris_ftr_train, iris_ftr_test, iris_tar_train, iris_tar_test \\\n",
    "= train_test_split(iris_ftr,iris_tar, random_state = 0)"
   ]
  },
  {
   "cell_type": "markdown",
   "id": "29e102fa",
   "metadata": {},
   "source": [
    "Logistic regression is affected by scale, therefore, we need to scale our features in the data onto unit scale before using Logistic regression for optimal performance. Unit scale means having Gaussian with zero mean (mean=0) and unit variance (variance=1). We will use scikit-learn's _**StandardScaler**_ to standardize the features.   "
   ]
  },
  {
   "cell_type": "code",
   "execution_count": 10,
   "id": "4abdb6fb",
   "metadata": {},
   "outputs": [],
   "source": [
    "scaler = StandardScaler()\n",
    "scaler.fit(iris_ftr_train)  # fit on training set only\n",
    "\n",
    "iris_ftr_train_st = scaler.transform(iris_ftr_train) # apply transform to the training set\n",
    "iris_ftr_test_st = scaler.transform(iris_ftr_test) # apply transform to the test set"
   ]
  },
  {
   "cell_type": "code",
   "execution_count": 11,
   "id": "444ed278",
   "metadata": {},
   "outputs": [
    {
     "name": "stdout",
     "output_type": "stream",
     "text": [
      "0.9736842105263158\n"
     ]
    }
   ],
   "source": [
    "clf = LogisticRegression()\n",
    "\n",
    "clf.fit(iris_ftr_train_st, iris_tar_train)  # train the model\n",
    "\n",
    "acc = clf.score(iris_ftr_test_st, iris_tar_test)  # print the accuracy acc. to test set: correct predictions/total number of data points\n",
    "print(acc)"
   ]
  },
  {
   "cell_type": "markdown",
   "id": "4aab47b5",
   "metadata": {},
   "source": [
    "Logistic regression allows us to see prediction probabilities as well as a prediction. So, it gives us probabilities. "
   ]
  },
  {
   "cell_type": "code",
   "execution_count": 12,
   "id": "bbd9a298",
   "metadata": {},
   "outputs": [
    {
     "data": {
      "text/plain": [
       "array([[-0.09984503, -0.57982483,  0.72717965,  1.51271377]])"
      ]
     },
     "execution_count": 12,
     "metadata": {},
     "output_type": "execute_result"
    }
   ],
   "source": [
    "iris_ftr_test_st[0].reshape(1,-1)  # features of one observation after standardization"
   ]
  },
  {
   "cell_type": "code",
   "execution_count": 13,
   "id": "fce9336e",
   "metadata": {},
   "outputs": [
    {
     "name": "stdout",
     "output_type": "stream",
     "text": [
      "prediction: 2\n",
      "probabilities: [[1.44000190e-04 3.10229631e-02 9.68833037e-01]]\n"
     ]
    }
   ],
   "source": [
    "print('prediction:', clf.predict(iris_ftr_test_st[0].reshape(1,-1))[0])  # predictions for one sample\n",
    "print('probabilities:',clf.predict_proba(iris_ftr_test_st[0].reshape(1,-1)))  # probabilities of the prediction"
   ]
  },
  {
   "cell_type": "markdown",
   "id": "94c52a2b",
   "metadata": {},
   "source": [
    "We can see the prediction and probabilities for that prediction using the line above. We have three classes: 0, 1 and 2. The class of first observation in the test set is 2 and our model predicts 2 with 96.8% probability.  "
   ]
  },
  {
   "cell_type": "markdown",
   "id": "9bff1b15",
   "metadata": {},
   "source": [
    "We can also look at the confusion matrix. It gives much insight into what was wrong. "
   ]
  },
  {
   "cell_type": "code",
   "execution_count": 14,
   "id": "68ebab71",
   "metadata": {},
   "outputs": [
    {
     "data": {
      "image/png": "[encoded data removed]",
      "text/plain": [
       "<Figure size 864x576 with 2 Axes>"
      ]
     },
     "metadata": {
      "needs_background": "light"
     },
     "output_type": "display_data"
    }
   ],
   "source": [
    "%matplotlib inline\n",
    "\n",
    "import matplotlib.pyplot as plt\n",
    "from sklearn import metrics\n",
    "import seaborn as sns\n",
    "\n",
    "cfsmat = metrics.confusion_matrix(iris_tar_test, clf.predict(iris_ftr_test_st))\n",
    "\n",
    "plt.figure(figsize=(12,8))\n",
    "sns.heatmap(cfsmat, annot=True,\n",
    "           fmt='.0f',\n",
    "           linewidths = .5,\n",
    "           square = True,\n",
    "           cmap = 'Blues');\n",
    "\n",
    "plt.ylabel('Actual Label', fontsize=17);\n",
    "plt.xlabel('Predicted Label', fontsize=17);\n",
    "plt.title('Accuracy Score: {}'.format(acc), size=17);\n",
    "plt.tick_params(labelsize=15)"
   ]
  },
  {
   "cell_type": "markdown",
   "id": "5f6105b6",
   "metadata": {},
   "source": [
    "We have 38 samples with corresponding labels in our test set. According to heat map, we can see that predicted labels and actual labels are mostly matched, we have only 1 missclassification. "
   ]
  },
  {
   "cell_type": "markdown",
   "id": "fb74c56e",
   "metadata": {},
   "source": [
    "### Decision trees using Scikit-learn"
   ]
  },
  {
   "cell_type": "markdown",
   "id": "b4c9a40d",
   "metadata": {},
   "source": [
    "Let's make classification for iris dataset using decision trees. First, we need to import DecisionTreeClassifier from scikit-learn library. "
   ]
  },
  {
   "cell_type": "code",
   "execution_count": 15,
   "id": "939a6d5d",
   "metadata": {},
   "outputs": [],
   "source": [
    "from sklearn.tree import DecisionTreeClassifier"
   ]
  },
  {
   "cell_type": "markdown",
   "id": "42dea634",
   "metadata": {},
   "source": [
    "For the Decision Tree algorithm, we don't need to standardize our features unlike Logistic regression or k-nearest neighbours. That's why we can use our splits directly without standardization."
   ]
  },
  {
   "cell_type": "code",
   "execution_count": 16,
   "id": "9a595d13",
   "metadata": {},
   "outputs": [
    {
     "data": {
      "text/plain": [
       "array([2])"
      ]
     },
     "execution_count": 16,
     "metadata": {},
     "output_type": "execute_result"
    }
   ],
   "source": [
    "clf_tree = DecisionTreeClassifier(max_depth = 2, random_state = 0)  # hyperparameter tuning\n",
    "\n",
    "clf_tree.fit(iris_ftr_train, iris_tar_train)\n",
    "    \n",
    "clf_tree.predict(iris_ftr_test[0].reshape(1,-1))"
   ]
  },
  {
   "cell_type": "code",
   "execution_count": 17,
   "id": "fd3361e9",
   "metadata": {},
   "outputs": [
    {
     "name": "stdout",
     "output_type": "stream",
     "text": [
      "0.8947368421052632\n"
     ]
    }
   ],
   "source": [
    "score_tree = clf_tree.score(iris_ftr_test, iris_tar_test) \n",
    "print(score_tree)"
   ]
  },
  {
   "cell_type": "markdown",
   "id": "230dc213",
   "metadata": {},
   "source": [
    "We can find the optimal max_length by performing grid search. "
   ]
  },
  {
   "cell_type": "code",
   "execution_count": 18,
   "id": "17c45ad9",
   "metadata": {},
   "outputs": [
    {
     "name": "stdout",
     "output_type": "stream",
     "text": [
      "max_depth 1 gives 57.89 % accuracy\n",
      "max_depth 2 gives 89.47 % accuracy\n",
      "max_depth 3 gives 97.37 % accuracy\n",
      "max_depth 4 gives 97.37 % accuracy\n",
      "max_depth 5 gives 97.37 % accuracy\n",
      "best max_depth is: 3\n"
     ]
    }
   ],
   "source": [
    "max_depth_range = list(range(1,6))\n",
    "\n",
    "accuracy_tree = []\n",
    "\n",
    "for depth in max_depth_range:\n",
    "    clf_tree_opt = DecisionTreeClassifier(max_depth = depth, random_state = 0)\n",
    "    clf_tree_opt.fit(iris_ftr_train, iris_tar_train)\n",
    "    \n",
    "    scores_tree = clf_tree_opt.score(iris_ftr_test, iris_tar_test)*100\n",
    "    accuracy_tree.append(scores_tree) \n",
    "    print('max_depth {:d} gives {:.2f} % accuracy'.format(depth, scores_tree))\n",
    "    \n",
    "print('best max_depth is:', accuracy_tree.index(max(accuracy_tree)) + 1)"
   ]
  },
  {
   "cell_type": "code",
   "execution_count": 19,
   "id": "ffc68a25",
   "metadata": {},
   "outputs": [
    {
     "data": {
      "image/png": "[encoded data removed]",
      "text/plain": [
       "<Figure size 360x360 with 1 Axes>"
      ]
     },
     "metadata": {
      "needs_background": "light"
     },
     "output_type": "display_data"
    }
   ],
   "source": [
    "plt.figure(figsize=(5,5))\n",
    "graph = plt.plot(max_depth_range, accuracy_tree);\n",
    "\n",
    "# next three lines are just for adding % symbol to the y labels\n",
    "loc, labels = plt.yticks();\n",
    "new_labels = ['{}%'.format(int(tick)) for tick in loc];\n",
    "plt.yticks(loc, new_labels);\n",
    "\n",
    "plt.xlabel('max_depth', fontsize=15);\n",
    "plt.ylabel('accuracy', fontsize=15);\n",
    "plt.tick_params(labelsize=18)\n",
    "plt.grid()"
   ]
  },
  {
   "cell_type": "markdown",
   "id": "6a6cb260",
   "metadata": {},
   "source": [
    "We can also visualize the decision tree using Matplotlib:"
   ]
  },
  {
   "cell_type": "code",
   "execution_count": 20,
   "id": "0630059b",
   "metadata": {},
   "outputs": [],
   "source": [
    "from sklearn import tree"
   ]
  },
  {
   "cell_type": "code",
   "execution_count": 21,
   "id": "3e586d4a",
   "metadata": {},
   "outputs": [
    {
     "data": {
      "image/png": "[encoded data removed]",
      "text/plain": [
       "<Figure size 600x600 with 1 Axes>"
      ]
     },
     "metadata": {
      "needs_background": "light"
     },
     "output_type": "display_data"
    }
   ],
   "source": [
    "feature_names = iris_data.feature_names\n",
    "class_names = iris_data.target_names\n",
    "\n",
    "fig, axes = plt.subplots(nrows = 1, ncols = 1, figsize=(2,2), dpi=300)\n",
    "\n",
    "tree.plot_tree(clf_tree,\n",
    "              feature_names = feature_names,\n",
    "              class_names = class_names,\n",
    "              filled = True);\n",
    "\n",
    "fig.savefig('Decision Tree for Iris Dataset.png')"
   ]
  },
  {
   "cell_type": "markdown",
   "id": "299ebad3",
   "metadata": {},
   "source": [
    "### Bagged trees using Sckit-learn"
   ]
  },
  {
   "cell_type": "markdown",
   "id": "4a741278",
   "metadata": {},
   "source": [
    "Decision trees are prone to overfit on training set. We can constraint how large a tree can grow to mitigate this problem. Bagged trees try to overcome this problem by using bootstrapped data to grow multiple deep decision trees. Multiple decision trees come together to make a combined prediction. "
   ]
  },
  {
   "cell_type": "code",
   "execution_count": 22,
   "id": "5817e013",
   "metadata": {},
   "outputs": [
    {
     "data": {
      "text/plain": [
       "array([2.])"
      ]
     },
     "execution_count": 22,
     "metadata": {},
     "output_type": "execute_result"
    }
   ],
   "source": [
    "from sklearn.ensemble import BaggingRegressor\n",
    "\n",
    "reg_bag = BaggingRegressor(n_estimators=100, random_state=0)\n",
    "\n",
    "reg_bag.fit(iris_ftr_train, iris_tar_train)\n",
    "    \n",
    "reg_bag.predict(iris_ftr_test[0].reshape(1,-1))"
   ]
  },
  {
   "cell_type": "code",
   "execution_count": 23,
   "id": "2b562af9",
   "metadata": {},
   "outputs": [
    {
     "name": "stdout",
     "output_type": "stream",
     "text": [
      "0.9594651219512195\n"
     ]
    }
   ],
   "source": [
    "score_bag = reg_bag.score(iris_ftr_test, iris_tar_test) \n",
    "print(score_bag)"
   ]
  },
  {
   "cell_type": "markdown",
   "id": "6596ca15",
   "metadata": {},
   "source": [
    "We can tune n_estimators parameter by looking the combinations of it. "
   ]
  },
  {
   "cell_type": "code",
   "execution_count": 24,
   "id": "eedeb02c",
   "metadata": {},
   "outputs": [
    {
     "name": "stdout",
     "output_type": "stream",
     "text": [
      "\n",
      "The best n_estimators value is:50 with the score 96.15551219512196\n"
     ]
    }
   ],
   "source": [
    "parameters_range = list(range(30,150,10))\n",
    "\n",
    "scores_bag_dic = {}\n",
    "\n",
    "for parameter in parameters_range:\n",
    "    reg_bag_op = BaggingRegressor(n_estimators=parameter, random_state=0)   \n",
    "    reg_bag_op.fit(iris_ftr_train, iris_tar_train)\n",
    "    score_bag_op = reg_bag_op.score(iris_ftr_test, iris_tar_test)*100 \n",
    "    \n",
    "    scores_bag_dic[parameter] = score_bag_op\n",
    "    \n",
    "print('\\nThe best n_estimators value is:{0} with the score {1}'\\\n",
    "      .format(max(scores_bag_dic, key=scores_bag_dic.get), max(scores_bag_dic.values())))    "
   ]
  },
  {
   "cell_type": "markdown",
   "id": "2fb7c4a8",
   "metadata": {},
   "source": [
    "### Unsupervised Learning"
   ]
  },
  {
   "cell_type": "markdown",
   "id": "ce2d4b78",
   "metadata": {},
   "source": [
    "In machine learning, we don't always try to predict a value. Sometimes we try to find some structure in the dataset. This is called Unsupervised Learning, which doesn't require labels/targets. Therefore, in the context of scikit-learn, we provide only features matrix when we fit our algorithm unlike supervised learning. Unsupervised algorithms don't make predictions from the data. \n",
    "\n",
    "There are two common types of unsupervised learning: Clustering and Dimensionality Reduction.\n",
    "\n",
    "Clustering is often used to discover groupings in a dataset. Its common practical use is market segmentation. Companies cluster customers into different segments, therefore they can efficinetly sell or market their products. \n",
    "\n",
    "Dimensionality Reduction techniques are like data compression algorithms. They can make your data take less space on your computer. Having less features in a data can make training and visualization easier. "
   ]
  },
  {
   "cell_type": "markdown",
   "id": "a29ac566",
   "metadata": {},
   "source": [
    "### K-Means Clustering using Scikit-learn"
   ]
  },
  {
   "cell_type": "markdown",
   "id": "4affec28",
   "metadata": {},
   "source": [
    "There are many clustering algorithms but k-means are the most popular one. We will used iris dataset for k-means clustering. K-means algorithm is sensitive to the scale of the data- That's why we need to standardize the data. "
   ]
  },
  {
   "cell_type": "code",
   "execution_count": 25,
   "id": "6a6e9975",
   "metadata": {},
   "outputs": [],
   "source": [
    "from sklearn.cluster import KMeans"
   ]
  },
  {
   "cell_type": "code",
   "execution_count": 26,
   "id": "f62bf4ce",
   "metadata": {},
   "outputs": [],
   "source": [
    "iris_data = load_iris()\n",
    "iris_df = pd.DataFrame(iris_data.data, columns=iris_data.feature_names)"
   ]
  },
  {
   "cell_type": "code",
   "execution_count": 27,
   "id": "5c08cdeb",
   "metadata": {},
   "outputs": [
    {
     "data": {
      "text/plain": [
       "<AxesSubplot:xlabel='petal length (cm)', ylabel='petal width (cm)'>"
      ]
     },
     "execution_count": 27,
     "metadata": {},
     "output_type": "execute_result"
    },
    {
     "data": {
      "image/png": "[encoded data removed]",
      "text/plain": [
       "<Figure size 432x288 with 1 Axes>"
      ]
     },
     "metadata": {
      "needs_background": "light"
     },
     "output_type": "display_data"
    }
   ],
   "source": [
    "features = ['petal length (cm)','petal width (cm)'] # get features\n",
    "\n",
    "iris_ftr = iris_df.loc[:, features].values   # feature matrix\n",
    "\n",
    "iris_target = iris_data.target  # we don't need this in unsupervised learning, we will use it just for visualization\n",
    "\n",
    "iris_ftr_std = StandardScaler().fit_transform(iris_ftr)  # normalize features matrix\n",
    "\n",
    "pd.DataFrame(iris_ftr_std, columns=features).plot.scatter('petal length (cm)','petal width (cm)')"
   ]
  },
  {
   "cell_type": "markdown",
   "id": "efe2d32c",
   "metadata": {},
   "source": [
    "In the figure, we can see that we have at least two clusters in the data. Now we will instantiate a KMeans instance. We need to specify the number of clusters we want."
   ]
  },
  {
   "cell_type": "code",
   "execution_count": 28,
   "id": "66312004",
   "metadata": {},
   "outputs": [
    {
     "data": {
      "text/plain": [
       "KMeans(n_clusters=3, random_state=1)"
      ]
     },
     "execution_count": 28,
     "metadata": {},
     "output_type": "execute_result"
    }
   ],
   "source": [
    "kmeans = KMeans(n_clusters = 3, random_state=1) # we select n_clusters = 3 because we know we have 3 classes in this dataset\n",
    "\n",
    "kmeans.fit(iris_ftr_std)  # fit only on the feature matrix"
   ]
  },
  {
   "cell_type": "code",
   "execution_count": 29,
   "id": "425d6c60",
   "metadata": {},
   "outputs": [
    {
     "data": {
      "text/plain": [
       "Text(0, 0.5, 'petal width (cm)')"
      ]
     },
     "execution_count": 29,
     "metadata": {},
     "output_type": "execute_result"
    },
    {
     "data": {
      "image/png": "[encoded data removed]",
      "text/plain": [
       "<Figure size 432x288 with 1 Axes>"
      ]
     },
     "metadata": {
      "needs_background": "light"
     },
     "output_type": "display_data"
    }
   ],
   "source": [
    "import numpy as np\n",
    "\n",
    "# after fitting the model on the features matrix, we can get cluster labels and cluster centroids\n",
    "labels = kmeans.labels_  # get labels\n",
    "centroids = kmeans.cluster_centers_  # get cluster centroids\n",
    "\n",
    "# for visualization\n",
    "kmeans_vis = pd.DataFrame(iris_ftr_std, columns=features)\n",
    "\n",
    "colormap = np.array(['r', 'g', 'b'])\n",
    "plt.scatter(kmeans_vis['petal length (cm)'], kmeans_vis['petal width (cm)'], c=colormap[labels])\n",
    "plt.scatter(centroids[:,0], centroids[:,1], s = 300, marker = 'x', color = 'k')\n",
    "\n",
    "plt.xlabel('petal length (cm)')\n",
    "plt.ylabel('petal width (cm)')"
   ]
  },
  {
   "cell_type": "markdown",
   "id": "de934c00",
   "metadata": {},
   "source": [
    "### Principal Component Analysis (PCA)"
   ]
  },
  {
   "cell_type": "markdown",
   "id": "7bf77960",
   "metadata": {},
   "source": [
    "We may not need all the features in our dataset. Principal Component Analysis (PCA) is a method to smartly reduce the dimensionality of a dataset while losing the least amount of information possible. PCA is an unsupervised learning algorithm.  "
   ]
  },
  {
   "cell_type": "code",
   "execution_count": 30,
   "id": "4995e017",
   "metadata": {},
   "outputs": [
    {
     "data": {
      "text/html": [
       "<div>\n",
       "<style scoped>\n",
       "    .dataframe tbody tr th:only-of-type {\n",
       "        vertical-align: middle;\n",
       "    }\n",
       "\n",
       "    .dataframe tbody tr th {\n",
       "        vertical-align: top;\n",
       "    }\n",
       "\n",
       "    .dataframe thead th {\n",
       "        text-align: right;\n",
       "    }\n",
       "</style>\n",
       "<table border=\"1\" class=\"dataframe\">\n",
       "  <thead>\n",
       "    <tr style=\"text-align: right;\">\n",
       "      <th></th>\n",
       "      <th>sepal length (cm)</th>\n",
       "      <th>sepal width (cm)</th>\n",
       "      <th>petal length (cm)</th>\n",
       "      <th>petal width (cm)</th>\n",
       "      <th>target</th>\n",
       "    </tr>\n",
       "  </thead>\n",
       "  <tbody>\n",
       "    <tr>\n",
       "      <th>0</th>\n",
       "      <td>5.1</td>\n",
       "      <td>3.5</td>\n",
       "      <td>1.4</td>\n",
       "      <td>0.2</td>\n",
       "      <td>0</td>\n",
       "    </tr>\n",
       "    <tr>\n",
       "      <th>1</th>\n",
       "      <td>4.9</td>\n",
       "      <td>3.0</td>\n",
       "      <td>1.4</td>\n",
       "      <td>0.2</td>\n",
       "      <td>0</td>\n",
       "    </tr>\n",
       "    <tr>\n",
       "      <th>2</th>\n",
       "      <td>4.7</td>\n",
       "      <td>3.2</td>\n",
       "      <td>1.3</td>\n",
       "      <td>0.2</td>\n",
       "      <td>0</td>\n",
       "    </tr>\n",
       "    <tr>\n",
       "      <th>3</th>\n",
       "      <td>4.6</td>\n",
       "      <td>3.1</td>\n",
       "      <td>1.5</td>\n",
       "      <td>0.2</td>\n",
       "      <td>0</td>\n",
       "    </tr>\n",
       "    <tr>\n",
       "      <th>4</th>\n",
       "      <td>5.0</td>\n",
       "      <td>3.6</td>\n",
       "      <td>1.4</td>\n",
       "      <td>0.2</td>\n",
       "      <td>0</td>\n",
       "    </tr>\n",
       "  </tbody>\n",
       "</table>\n",
       "</div>"
      ],
      "text/plain": [
       "   sepal length (cm)  sepal width (cm)  petal length (cm)  petal width (cm)  \\\n",
       "0                5.1               3.5                1.4               0.2   \n",
       "1                4.9               3.0                1.4               0.2   \n",
       "2                4.7               3.2                1.3               0.2   \n",
       "3                4.6               3.1                1.5               0.2   \n",
       "4                5.0               3.6                1.4               0.2   \n",
       "\n",
       "   target  \n",
       "0       0  \n",
       "1       0  \n",
       "2       0  \n",
       "3       0  \n",
       "4       0  "
      ]
     },
     "execution_count": 30,
     "metadata": {},
     "output_type": "execute_result"
    }
   ],
   "source": [
    "from sklearn.decomposition import PCA\n",
    "\n",
    "iris_data = load_iris()\n",
    "iris_df = pd.DataFrame(iris_data.data, columns=iris_data.feature_names)\n",
    "iris_df['target'] = iris_data.target\n",
    "\n",
    "iris_df.head()"
   ]
  },
  {
   "cell_type": "markdown",
   "id": "505d17b1",
   "metadata": {},
   "source": [
    "The _**lambda**_ functions are generally used for one-line expressions. Lambda functions are quite useful when we’re working with a lot of iterative code. \n",
    "\n",
    "The _**apply()**_ function which is in Pandas is used to apply a function along a row or a column of Pandas DataFrame. In the following code, apply() function calls the lambda function and applies it to target column and returns a modified copy of the target column.\n",
    "\n",
    "We can use the apply() function to apply the lambda function to both rows and columns of a dataframe. If the axis argument in the apply() function is 0, then the lambda function gets applied to each column, and if 1, then the function gets applied to each row.\n",
    "\n",
    "The apply() function can also be applied directly to a Pandas series.In this case, it is not needed to indicate axis."
   ]
  },
  {
   "cell_type": "code",
   "execution_count": 31,
   "id": "0de1c9b0",
   "metadata": {},
   "outputs": [
    {
     "data": {
      "text/html": [
       "<div>\n",
       "<style scoped>\n",
       "    .dataframe tbody tr th:only-of-type {\n",
       "        vertical-align: middle;\n",
       "    }\n",
       "\n",
       "    .dataframe tbody tr th {\n",
       "        vertical-align: top;\n",
       "    }\n",
       "\n",
       "    .dataframe thead th {\n",
       "        text-align: right;\n",
       "    }\n",
       "</style>\n",
       "<table border=\"1\" class=\"dataframe\">\n",
       "  <thead>\n",
       "    <tr style=\"text-align: right;\">\n",
       "      <th></th>\n",
       "      <th>sepal length (cm)</th>\n",
       "      <th>sepal width (cm)</th>\n",
       "      <th>petal length (cm)</th>\n",
       "      <th>petal width (cm)</th>\n",
       "      <th>target</th>\n",
       "    </tr>\n",
       "  </thead>\n",
       "  <tbody>\n",
       "    <tr>\n",
       "      <th>0</th>\n",
       "      <td>5.1</td>\n",
       "      <td>3.5</td>\n",
       "      <td>1.4</td>\n",
       "      <td>0.2</td>\n",
       "      <td>setosa</td>\n",
       "    </tr>\n",
       "    <tr>\n",
       "      <th>1</th>\n",
       "      <td>4.9</td>\n",
       "      <td>3.0</td>\n",
       "      <td>1.4</td>\n",
       "      <td>0.2</td>\n",
       "      <td>setosa</td>\n",
       "    </tr>\n",
       "    <tr>\n",
       "      <th>2</th>\n",
       "      <td>4.7</td>\n",
       "      <td>3.2</td>\n",
       "      <td>1.3</td>\n",
       "      <td>0.2</td>\n",
       "      <td>setosa</td>\n",
       "    </tr>\n",
       "    <tr>\n",
       "      <th>3</th>\n",
       "      <td>4.6</td>\n",
       "      <td>3.1</td>\n",
       "      <td>1.5</td>\n",
       "      <td>0.2</td>\n",
       "      <td>setosa</td>\n",
       "    </tr>\n",
       "    <tr>\n",
       "      <th>4</th>\n",
       "      <td>5.0</td>\n",
       "      <td>3.6</td>\n",
       "      <td>1.4</td>\n",
       "      <td>0.2</td>\n",
       "      <td>setosa</td>\n",
       "    </tr>\n",
       "  </tbody>\n",
       "</table>\n",
       "</div>"
      ],
      "text/plain": [
       "   sepal length (cm)  sepal width (cm)  petal length (cm)  petal width (cm)  \\\n",
       "0                5.1               3.5                1.4               0.2   \n",
       "1                4.9               3.0                1.4               0.2   \n",
       "2                4.7               3.2                1.3               0.2   \n",
       "3                4.6               3.1                1.5               0.2   \n",
       "4                5.0               3.6                1.4               0.2   \n",
       "\n",
       "   target  \n",
       "0  setosa  \n",
       "1  setosa  \n",
       "2  setosa  \n",
       "3  setosa  \n",
       "4  setosa  "
      ]
     },
     "execution_count": 31,
     "metadata": {},
     "output_type": "execute_result"
    }
   ],
   "source": [
    "speciesDict = {0: 'setosa', 1: 'versicolor', 2: 'virginica'}\n",
    "\n",
    "iris_df.loc[:,'target'] = iris_df.loc[:,'target'].apply(lambda x:speciesDict[x])\n",
    "#iris_df.loc[:2,'target'] = iris_df.apply(lambda x: x['target']+3 , axis=1) #e.g. if we would want to add a value along a part of the the column\n",
    "\n",
    "iris_df.head()"
   ]
  },
  {
   "cell_type": "markdown",
   "id": "fbe7adfa",
   "metadata": {},
   "source": [
    "We need to standardize/scale the features in the data before using PCA. "
   ]
  },
  {
   "cell_type": "code",
   "execution_count": 32,
   "id": "d1ce336c",
   "metadata": {},
   "outputs": [],
   "source": [
    "features_all = iris_data.feature_names\n",
    "\n",
    "features_np = iris_df.loc[:, features_all].values\n",
    "targets_np = iris_df.loc[:, ['target']].values\n",
    "\n",
    "features_np_std = StandardScaler().fit_transform(features_np) # We only fit on features matrix because PCA is an unsupervised learning algorithm"
   ]
  },
  {
   "cell_type": "markdown",
   "id": "cfe9913f",
   "metadata": {},
   "source": [
    "Now we can apply PCA. The original data is 4 dimensional also it includes 4 features columns. We will convert this 4 dimensional data into 2 dimensional data. Therefore we can select _**n_components**_ variable as 2. If we want to keep for example 90% of the information then we can write n_components = .90, then Scikit-learn will select automatically the minimum number of components to be able to retain this much information."
   ]
  },
  {
   "cell_type": "code",
   "execution_count": 33,
   "id": "1cf93ee2",
   "metadata": {},
   "outputs": [],
   "source": [
    "pca = PCA(n_components = 2)  # instantiate an instance of PCA. we project data from 4D into 2D\n",
    "\n",
    "principalComponents = pca.fit_transform(features_np_std)\n",
    "\n",
    "PCA_df = pd.DataFrame(data = principalComponents, columns = ['principal component 1', 'principal component 2'])"
   ]
  },
  {
   "cell_type": "markdown",
   "id": "aa7dee19",
   "metadata": {},
   "source": [
    "Let's look at the explained variance(information) after PCA projection to 2D. To see how our principal components look like with targets, we concatenate PCA_df with our target column: "
   ]
  },
  {
   "cell_type": "code",
   "execution_count": 34,
   "id": "99229d3a",
   "metadata": {},
   "outputs": [
    {
     "data": {
      "text/html": [
       "<div>\n",
       "<style scoped>\n",
       "    .dataframe tbody tr th:only-of-type {\n",
       "        vertical-align: middle;\n",
       "    }\n",
       "\n",
       "    .dataframe tbody tr th {\n",
       "        vertical-align: top;\n",
       "    }\n",
       "\n",
       "    .dataframe thead th {\n",
       "        text-align: right;\n",
       "    }\n",
       "</style>\n",
       "<table border=\"1\" class=\"dataframe\">\n",
       "  <thead>\n",
       "    <tr style=\"text-align: right;\">\n",
       "      <th></th>\n",
       "      <th>principal component 1</th>\n",
       "      <th>principal component 2</th>\n",
       "      <th>target</th>\n",
       "    </tr>\n",
       "  </thead>\n",
       "  <tbody>\n",
       "    <tr>\n",
       "      <th>0</th>\n",
       "      <td>-2.264703</td>\n",
       "      <td>0.480027</td>\n",
       "      <td>setosa</td>\n",
       "    </tr>\n",
       "    <tr>\n",
       "      <th>1</th>\n",
       "      <td>-2.080961</td>\n",
       "      <td>-0.674134</td>\n",
       "      <td>setosa</td>\n",
       "    </tr>\n",
       "    <tr>\n",
       "      <th>2</th>\n",
       "      <td>-2.364229</td>\n",
       "      <td>-0.341908</td>\n",
       "      <td>setosa</td>\n",
       "    </tr>\n",
       "    <tr>\n",
       "      <th>3</th>\n",
       "      <td>-2.299384</td>\n",
       "      <td>-0.597395</td>\n",
       "      <td>setosa</td>\n",
       "    </tr>\n",
       "    <tr>\n",
       "      <th>4</th>\n",
       "      <td>-2.389842</td>\n",
       "      <td>0.646835</td>\n",
       "      <td>setosa</td>\n",
       "    </tr>\n",
       "  </tbody>\n",
       "</table>\n",
       "</div>"
      ],
      "text/plain": [
       "   principal component 1  principal component 2  target\n",
       "0              -2.264703               0.480027  setosa\n",
       "1              -2.080961              -0.674134  setosa\n",
       "2              -2.364229              -0.341908  setosa\n",
       "3              -2.299384              -0.597395  setosa\n",
       "4              -2.389842               0.646835  setosa"
      ]
     },
     "execution_count": 34,
     "metadata": {},
     "output_type": "execute_result"
    }
   ],
   "source": [
    "final_df = pd.concat([PCA_df, iris_df[['target']]], axis=1)\n",
    "\n",
    "final_df.head()"
   ]
  },
  {
   "cell_type": "markdown",
   "id": "e31fa6f6",
   "metadata": {},
   "source": [
    "The explained variance tells us how much information (variance) can be attributed to each of the principal components. This is important because we lose some of the variance (information) while we convert 4D space to 2D space. "
   ]
  },
  {
   "cell_type": "code",
   "execution_count": 35,
   "id": "39ea7980",
   "metadata": {},
   "outputs": [
    {
     "data": {
      "text/plain": [
       "array([0.72962445, 0.22850762])"
      ]
     },
     "execution_count": 35,
     "metadata": {},
     "output_type": "execute_result"
    }
   ],
   "source": [
    "pca.explained_variance_ratio_"
   ]
  },
  {
   "cell_type": "code",
   "execution_count": 36,
   "id": "331f9069",
   "metadata": {},
   "outputs": [
    {
     "data": {
      "text/plain": [
       "0.9581320720000164"
      ]
     },
     "execution_count": 36,
     "metadata": {},
     "output_type": "execute_result"
    }
   ],
   "source": [
    "sum(pca.explained_variance_ratio_)"
   ]
  },
  {
   "cell_type": "markdown",
   "id": "ba76b325",
   "metadata": {},
   "source": [
    "Together, the two principal components contain ~96% of the information of the dataset. The first principal component contains roughly 73% of the variance (information) while the second contains ~23%.\n",
    "\n",
    "PCA helps us to speed up the training process since it can reduce the dimensionality of the dataset. "
   ]
  },
  {
   "cell_type": "markdown",
   "id": "40d0d77d",
   "metadata": {},
   "source": [
    "### Sckit-learn Pipelines"
   ]
  },
  {
   "cell_type": "markdown",
   "id": "b50d2a01",
   "metadata": {},
   "source": [
    "Machine learning is not always about applying a single machine learning algorithm. For a lot of machine learning algorithms, we may need to apply data processing steps, data transformations and multiple machine learning algorithms. This can lead to a lot of code. We can keep our code organized and as bug free as possible with sckit-learn pipeline. \n",
    "\n",
    "Let's chain PCA and logistic regression for image classification using sckit-learn pipelines. The dataset that we will use is a modified version of MNIST dataset. It contains two classes (0 and 1) and 4000 28x28 pixel images total (so the dimensionality is 28x28=784). There are 2000 labeled images for each digit 0 and 1. Features are integer values between 0 and 255."
   ]
  },
  {
   "cell_type": "code",
   "execution_count": 37,
   "id": "95c0819c",
   "metadata": {},
   "outputs": [],
   "source": [
    "from sklearn.pipeline import Pipeline # we added other needed libraries before"
   ]
  },
  {
   "cell_type": "code",
   "execution_count": 38,
   "id": "acfc2da4",
   "metadata": {},
   "outputs": [
    {
     "name": "stdout",
     "output_type": "stream",
     "text": [
      "Shape of the dataset: (4000, 785)\n"
     ]
    },
    {
     "data": {
      "text/html": [
       "<div>\n",
       "<style scoped>\n",
       "    .dataframe tbody tr th:only-of-type {\n",
       "        vertical-align: middle;\n",
       "    }\n",
       "\n",
       "    .dataframe tbody tr th {\n",
       "        vertical-align: top;\n",
       "    }\n",
       "\n",
       "    .dataframe thead th {\n",
       "        text-align: right;\n",
       "    }\n",
       "</style>\n",
       "<table border=\"1\" class=\"dataframe\">\n",
       "  <thead>\n",
       "    <tr style=\"text-align: right;\">\n",
       "      <th></th>\n",
       "      <th>0</th>\n",
       "      <th>1</th>\n",
       "      <th>2</th>\n",
       "      <th>3</th>\n",
       "      <th>4</th>\n",
       "      <th>5</th>\n",
       "      <th>6</th>\n",
       "      <th>7</th>\n",
       "      <th>8</th>\n",
       "      <th>9</th>\n",
       "      <th>...</th>\n",
       "      <th>775</th>\n",
       "      <th>776</th>\n",
       "      <th>777</th>\n",
       "      <th>778</th>\n",
       "      <th>779</th>\n",
       "      <th>780</th>\n",
       "      <th>781</th>\n",
       "      <th>782</th>\n",
       "      <th>783</th>\n",
       "      <th>label</th>\n",
       "    </tr>\n",
       "  </thead>\n",
       "  <tbody>\n",
       "    <tr>\n",
       "      <th>0</th>\n",
       "      <td>0</td>\n",
       "      <td>0</td>\n",
       "      <td>0</td>\n",
       "      <td>0</td>\n",
       "      <td>0</td>\n",
       "      <td>0</td>\n",
       "      <td>0</td>\n",
       "      <td>0</td>\n",
       "      <td>0</td>\n",
       "      <td>0</td>\n",
       "      <td>...</td>\n",
       "      <td>0</td>\n",
       "      <td>0</td>\n",
       "      <td>0</td>\n",
       "      <td>0</td>\n",
       "      <td>0</td>\n",
       "      <td>0</td>\n",
       "      <td>0</td>\n",
       "      <td>0</td>\n",
       "      <td>0</td>\n",
       "      <td>0</td>\n",
       "    </tr>\n",
       "    <tr>\n",
       "      <th>1</th>\n",
       "      <td>0</td>\n",
       "      <td>0</td>\n",
       "      <td>0</td>\n",
       "      <td>0</td>\n",
       "      <td>0</td>\n",
       "      <td>0</td>\n",
       "      <td>0</td>\n",
       "      <td>0</td>\n",
       "      <td>0</td>\n",
       "      <td>0</td>\n",
       "      <td>...</td>\n",
       "      <td>0</td>\n",
       "      <td>0</td>\n",
       "      <td>0</td>\n",
       "      <td>0</td>\n",
       "      <td>0</td>\n",
       "      <td>0</td>\n",
       "      <td>0</td>\n",
       "      <td>0</td>\n",
       "      <td>0</td>\n",
       "      <td>1</td>\n",
       "    </tr>\n",
       "    <tr>\n",
       "      <th>2</th>\n",
       "      <td>0</td>\n",
       "      <td>0</td>\n",
       "      <td>0</td>\n",
       "      <td>0</td>\n",
       "      <td>0</td>\n",
       "      <td>0</td>\n",
       "      <td>0</td>\n",
       "      <td>0</td>\n",
       "      <td>0</td>\n",
       "      <td>0</td>\n",
       "      <td>...</td>\n",
       "      <td>0</td>\n",
       "      <td>0</td>\n",
       "      <td>0</td>\n",
       "      <td>0</td>\n",
       "      <td>0</td>\n",
       "      <td>0</td>\n",
       "      <td>0</td>\n",
       "      <td>0</td>\n",
       "      <td>0</td>\n",
       "      <td>0</td>\n",
       "    </tr>\n",
       "    <tr>\n",
       "      <th>3</th>\n",
       "      <td>0</td>\n",
       "      <td>0</td>\n",
       "      <td>0</td>\n",
       "      <td>0</td>\n",
       "      <td>0</td>\n",
       "      <td>0</td>\n",
       "      <td>0</td>\n",
       "      <td>0</td>\n",
       "      <td>0</td>\n",
       "      <td>0</td>\n",
       "      <td>...</td>\n",
       "      <td>0</td>\n",
       "      <td>0</td>\n",
       "      <td>0</td>\n",
       "      <td>0</td>\n",
       "      <td>0</td>\n",
       "      <td>0</td>\n",
       "      <td>0</td>\n",
       "      <td>0</td>\n",
       "      <td>0</td>\n",
       "      <td>0</td>\n",
       "    </tr>\n",
       "    <tr>\n",
       "      <th>4</th>\n",
       "      <td>0</td>\n",
       "      <td>0</td>\n",
       "      <td>0</td>\n",
       "      <td>0</td>\n",
       "      <td>0</td>\n",
       "      <td>0</td>\n",
       "      <td>0</td>\n",
       "      <td>0</td>\n",
       "      <td>0</td>\n",
       "      <td>0</td>\n",
       "      <td>...</td>\n",
       "      <td>0</td>\n",
       "      <td>0</td>\n",
       "      <td>0</td>\n",
       "      <td>0</td>\n",
       "      <td>0</td>\n",
       "      <td>0</td>\n",
       "      <td>0</td>\n",
       "      <td>0</td>\n",
       "      <td>0</td>\n",
       "      <td>1</td>\n",
       "    </tr>\n",
       "  </tbody>\n",
       "</table>\n",
       "<p>5 rows × 785 columns</p>\n",
       "</div>"
      ],
      "text/plain": [
       "   0  1  2  3  4  5  6  7  8  9  ...  775  776  777  778  779  780  781  782  \\\n",
       "0  0  0  0  0  0  0  0  0  0  0  ...    0    0    0    0    0    0    0    0   \n",
       "1  0  0  0  0  0  0  0  0  0  0  ...    0    0    0    0    0    0    0    0   \n",
       "2  0  0  0  0  0  0  0  0  0  0  ...    0    0    0    0    0    0    0    0   \n",
       "3  0  0  0  0  0  0  0  0  0  0  ...    0    0    0    0    0    0    0    0   \n",
       "4  0  0  0  0  0  0  0  0  0  0  ...    0    0    0    0    0    0    0    0   \n",
       "\n",
       "   783  label  \n",
       "0    0      0  \n",
       "1    0      1  \n",
       "2    0      0  \n",
       "3    0      0  \n",
       "4    0      1  \n",
       "\n",
       "[5 rows x 785 columns]"
      ]
     },
     "execution_count": 38,
     "metadata": {},
     "output_type": "execute_result"
    }
   ],
   "source": [
    "mnist_df = pd.read_csv('https://drive.google.com/uc?id=1Ev9uo2tUxqQ84E18KidKx6peLTc23SqJ')\n",
    "\n",
    "print(\"Shape of the dataset:\", mnist_df.shape)\n",
    "\n",
    "mnist_df.head() # show first 5 rows in Pandas DataFrame"
   ]
  },
  {
   "cell_type": "markdown",
   "id": "7c2d3b16",
   "metadata": {},
   "source": [
    "The following code chains PCA and Logistic regression together. "
   ]
  },
  {
   "cell_type": "code",
   "execution_count": 39,
   "id": "c54794fc",
   "metadata": {},
   "outputs": [
    {
     "name": "stdout",
     "output_type": "stream",
     "text": [
      "0.997\n"
     ]
    }
   ],
   "source": [
    "# split data into train and test set\n",
    "x = mnist_df.loc[:,mnist_df.columns[:-1]].values # get only features columns and convert it to NumPy array\n",
    "y = mnist_df.loc[:,'label'].values # get only label column and convert it to NumPy array\n",
    "\n",
    "x_train, x_test, y_train, y_test = train_test_split(x,y,random_state=0) # split by 75% for train, %25 for test\n",
    "\n",
    "# standardize the data\n",
    "scaler = StandardScaler() # instantiate a StandartScaler instance\n",
    "scaler.fit(x_train) # fit on train set only\n",
    "x_train_std = scaler.transform(x_train) # apply transform to the train set\n",
    "x_test_std = scaler.transform(x_test) # apply transform to the test set\n",
    "\n",
    "# apply PCA\n",
    "pca_mnist = PCA(n_components = .90, random_state=0)  # instantiate an instance of PCA\n",
    "pca.fit(x_train_std) # fit on train set\n",
    "x_train_pca = pca.transform(x_train_std) # transform train set\n",
    "x_test_pca = pca.transform(x_test_std) # transform test set\n",
    "\n",
    "# apply Logistic Regression\n",
    "clf_mnist = LogisticRegression() # instantiate an instance of LogisticRegression\n",
    "clf_mnist.fit(x_train_pca, y_train)  # train the model\n",
    "\n",
    "# get model performance\n",
    "acc = clf_mnist.score(x_test_pca, y_test)  # print the accuracy acc. to test set: correct predictions/total number of data points\n",
    "print(acc)"
   ]
  },
  {
   "cell_type": "markdown",
   "id": "5d2ebc2f",
   "metadata": {},
   "source": [
    "It is long and includes _**fit**_ method three times. So we can shorten it using sckit-learn pipelines. We can name the steps in the pipeline e.g. scaler, pca, logistic etc. Following code is more compact and easy to understand. "
   ]
  },
  {
   "cell_type": "code",
   "execution_count": 40,
   "id": "8b96f4e5",
   "metadata": {},
   "outputs": [
    {
     "name": "stdout",
     "output_type": "stream",
     "text": [
      "0.997\n"
     ]
    }
   ],
   "source": [
    "# split data into train and test set\n",
    "x = mnist_df.loc[:,mnist_df.columns[:-1]].values # get only features columns and convert it to NumPy array\n",
    "y = mnist_df.loc[:,'label'].values # get only label column and convert it to NumPy array\n",
    "\n",
    "x_train, x_test, y_train, y_test = train_test_split(x,y,random_state=0) # split by 75% for train, %25 for test\n",
    "\n",
    "# create a pipeline\n",
    "pipe = Pipeline([('scaler', StandardScaler()), \n",
    "                ('pca', PCA(n_components=.90, random_state=0)),\n",
    "                ('logistic', LogisticRegression())])\n",
    "\n",
    "pipe.fit(x_train, y_train)\n",
    "\n",
    "# get model performance\n",
    "acc = pipe.score(x_test, y_test)\n",
    "print(acc)"
   ]
  },
  {
   "cell_type": "markdown",
   "id": "3bc3b266",
   "metadata": {},
   "source": [
    "We can also visualize our pipeline. Thus, we can see all steps of our machine learning model.  "
   ]
  },
  {
   "cell_type": "code",
   "execution_count": 41,
   "id": "45a876de",
   "metadata": {},
   "outputs": [
    {
     "data": {
      "text/html": [
       "<style>#sk-1a9c63d6-c19f-4f85-9464-b6d694876f45 {color: black;background-color: white;}#sk-1a9c63d6-c19f-4f85-9464-b6d694876f45 pre{padding: 0;}#sk-1a9c63d6-c19f-4f85-9464-b6d694876f45 div.sk-toggleable {background-color: white;}#sk-1a9c63d6-c19f-4f85-9464-b6d694876f45 label.sk-toggleable__label {cursor: pointer;display: block;width: 100%;margin-bottom: 0;padding: 0.2em 0.3em;box-sizing: border-box;text-align: center;}#sk-1a9c63d6-c19f-4f85-9464-b6d694876f45 div.sk-toggleable__content {max-height: 0;max-width: 0;overflow: hidden;text-align: left;background-color: #f0f8ff;}#sk-1a9c63d6-c19f-4f85-9464-b6d694876f45 div.sk-toggleable__content pre {margin: 0.2em;color: black;border-radius: 0.25em;background-color: #f0f8ff;}#sk-1a9c63d6-c19f-4f85-9464-b6d694876f45 input.sk-toggleable__control:checked~div.sk-toggleable__content {max-height: 200px;max-width: 100%;overflow: auto;}#sk-1a9c63d6-c19f-4f85-9464-b6d694876f45 div.sk-estimator input.sk-toggleable__control:checked~label.sk-toggleable__label {background-color: #d4ebff;}#sk-1a9c63d6-c19f-4f85-9464-b6d694876f45 div.sk-label input.sk-toggleable__control:checked~label.sk-toggleable__label {background-color: #d4ebff;}#sk-1a9c63d6-c19f-4f85-9464-b6d694876f45 input.sk-hidden--visually {border: 0;clip: rect(1px 1px 1px 1px);clip: rect(1px, 1px, 1px, 1px);height: 1px;margin: -1px;overflow: hidden;padding: 0;position: absolute;width: 1px;}#sk-1a9c63d6-c19f-4f85-9464-b6d694876f45 div.sk-estimator {font-family: monospace;background-color: #f0f8ff;margin: 0.25em 0.25em;border: 1px dotted black;border-radius: 0.25em;box-sizing: border-box;}#sk-1a9c63d6-c19f-4f85-9464-b6d694876f45 div.sk-estimator:hover {background-color: #d4ebff;}#sk-1a9c63d6-c19f-4f85-9464-b6d694876f45 div.sk-parallel-item::after {content: \"\";width: 100%;border-bottom: 1px solid gray;flex-grow: 1;}#sk-1a9c63d6-c19f-4f85-9464-b6d694876f45 div.sk-label:hover label.sk-toggleable__label {background-color: #d4ebff;}#sk-1a9c63d6-c19f-4f85-9464-b6d694876f45 div.sk-serial::before {content: \"\";position: absolute;border-left: 1px solid gray;box-sizing: border-box;top: 2em;bottom: 0;left: 50%;}#sk-1a9c63d6-c19f-4f85-9464-b6d694876f45 div.sk-serial {display: flex;flex-direction: column;align-items: center;background-color: white;}#sk-1a9c63d6-c19f-4f85-9464-b6d694876f45 div.sk-item {z-index: 1;}#sk-1a9c63d6-c19f-4f85-9464-b6d694876f45 div.sk-parallel {display: flex;align-items: stretch;justify-content: center;background-color: white;}#sk-1a9c63d6-c19f-4f85-9464-b6d694876f45 div.sk-parallel-item {display: flex;flex-direction: column;position: relative;background-color: white;}#sk-1a9c63d6-c19f-4f85-9464-b6d694876f45 div.sk-parallel-item:first-child::after {align-self: flex-end;width: 50%;}#sk-1a9c63d6-c19f-4f85-9464-b6d694876f45 div.sk-parallel-item:last-child::after {align-self: flex-start;width: 50%;}#sk-1a9c63d6-c19f-4f85-9464-b6d694876f45 div.sk-parallel-item:only-child::after {width: 0;}#sk-1a9c63d6-c19f-4f85-9464-b6d694876f45 div.sk-dashed-wrapped {border: 1px dashed gray;margin: 0.2em;box-sizing: border-box;padding-bottom: 0.1em;background-color: white;position: relative;}#sk-1a9c63d6-c19f-4f85-9464-b6d694876f45 div.sk-label label {font-family: monospace;font-weight: bold;background-color: white;display: inline-block;line-height: 1.2em;}#sk-1a9c63d6-c19f-4f85-9464-b6d694876f45 div.sk-label-container {position: relative;z-index: 2;text-align: center;}#sk-1a9c63d6-c19f-4f85-9464-b6d694876f45 div.sk-container {display: inline-block;position: relative;}</style><div id=\"sk-1a9c63d6-c19f-4f85-9464-b6d694876f45\" class\"sk-top-container\"><div class=\"sk-container\"><div class=\"sk-item sk-dashed-wrapped\"><div class=\"sk-label-container\"><div class=\"sk-label sk-toggleable\"><input class=\"sk-toggleable__control sk-hidden--visually\" id=\"60c259f7-56d2-41cb-8033-ef601462a003\" type=\"checkbox\" ><label class=\"sk-toggleable__label\" for=\"60c259f7-56d2-41cb-8033-ef601462a003\">Pipeline</label><div class=\"sk-toggleable__content\"><pre>Pipeline(steps=[('scaler', StandardScaler()),\n",
       "                ('pca', PCA(n_components=0.9, random_state=0)),\n",
       "                ('logistic', LogisticRegression())])</pre></div></div></div><div class=\"sk-serial\"><div class=\"sk-item\"><div class=\"sk-estimator sk-toggleable\"><input class=\"sk-toggleable__control sk-hidden--visually\" id=\"09a66f9a-2a36-4bda-adf4-64d66b6d40c9\" type=\"checkbox\" ><label class=\"sk-toggleable__label\" for=\"09a66f9a-2a36-4bda-adf4-64d66b6d40c9\">StandardScaler</label><div class=\"sk-toggleable__content\"><pre>StandardScaler()</pre></div></div></div><div class=\"sk-item\"><div class=\"sk-estimator sk-toggleable\"><input class=\"sk-toggleable__control sk-hidden--visually\" id=\"b43b0f71-5db6-413e-b995-a97ca6c16557\" type=\"checkbox\" ><label class=\"sk-toggleable__label\" for=\"b43b0f71-5db6-413e-b995-a97ca6c16557\">PCA</label><div class=\"sk-toggleable__content\"><pre>PCA(n_components=0.9, random_state=0)</pre></div></div></div><div class=\"sk-item\"><div class=\"sk-estimator sk-toggleable\"><input class=\"sk-toggleable__control sk-hidden--visually\" id=\"021627a2-5602-4c74-b8a2-513e056f8eb5\" type=\"checkbox\" ><label class=\"sk-toggleable__label\" for=\"021627a2-5602-4c74-b8a2-513e056f8eb5\">LogisticRegression</label><div class=\"sk-toggleable__content\"><pre>LogisticRegression()</pre></div></div></div></div></div></div></div>"
      ],
      "text/plain": [
       "Pipeline(steps=[('scaler', StandardScaler()),\n",
       "                ('pca', PCA(n_components=0.9, random_state=0)),\n",
       "                ('logistic', LogisticRegression())])"
      ]
     },
     "execution_count": 41,
     "metadata": {},
     "output_type": "execute_result"
    }
   ],
   "source": [
    "from sklearn import set_config\n",
    "\n",
    "set_config(display = 'diagram')\n",
    "pipe"
   ]
  }
 ],
 "metadata": {
  "kernelspec": {
   "display_name": "Python 3",
   "language": "python",
   "name": "python3"
  },
  "language_info": {
   "codemirror_mode": {
    "name": "ipython",
    "version": 3
   },
   "file_extension": ".py",
   "mimetype": "text/x-python",
   "name": "python",
   "nbconvert_exporter": "python",
   "pygments_lexer": "ipython3",
   "version": "3.7.10"
  }
 },
 "nbformat": 4,
 "nbformat_minor": 5
}
