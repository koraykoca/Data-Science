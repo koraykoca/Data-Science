{
 "cells": [
  {
   "cell_type": "markdown",
   "id": "6b5c43c6",
   "metadata": {},
   "source": [
    "# Machine Learning with Scikit-Learn"
   ]
  },
  {
   "cell_type": "markdown",
   "id": "a14bb732",
   "metadata": {},
   "source": [
    "Scikit-Learn is a machine learning Python library which provides a large amount of machine learning algorithms. All machine learning models are implemented as Python classes. It makes easy to train models and switch between different algorithms. \n",
    "\n",
    "Before fitting a model with sckit-learn, our data has to be in a recognizable format. Sckit-Learn works well with NumPy arrays.There we will convert Pandas DataFrames to NumPy arrays.\n",
    "\n",
    "Sckit-Learn expects Features matrix and Target vector. In 2D Features matrix, rows represent samples and columns represent features. Target vector is usually 1D vector and represent labels. \n",
    "\n",
    "First we need to import sckit-learn library to start working with it. Then we will import the boston dataset which comes with the scikit-learn library. "
   ]
  },
  {
   "cell_type": "code",
   "execution_count": 1,
   "id": "cb8e0e2d",
   "metadata": {},
   "outputs": [],
   "source": [
    "#!pip install -U scikit-learn\n",
    "\n",
    "import sklearn\n",
    "from sklearn.datasets import load_boston\n",
    "\n",
    "import pandas as pd\n",
    "import matplotlib.pyplot as plt"
   ]
  },
  {
   "cell_type": "code",
   "execution_count": 2,
   "id": "87467347",
   "metadata": {},
   "outputs": [
    {
     "data": {
      "text/html": [
       "<div>\n",
       "<style scoped>\n",
       "    .dataframe tbody tr th:only-of-type {\n",
       "        vertical-align: middle;\n",
       "    }\n",
       "\n",
       "    .dataframe tbody tr th {\n",
       "        vertical-align: top;\n",
       "    }\n",
       "\n",
       "    .dataframe thead th {\n",
       "        text-align: right;\n",
       "    }\n",
       "</style>\n",
       "<table border=\"1\" class=\"dataframe\">\n",
       "  <thead>\n",
       "    <tr style=\"text-align: right;\">\n",
       "      <th></th>\n",
       "      <th>CRIM</th>\n",
       "      <th>ZN</th>\n",
       "      <th>INDUS</th>\n",
       "      <th>CHAS</th>\n",
       "      <th>NOX</th>\n",
       "      <th>RM</th>\n",
       "      <th>AGE</th>\n",
       "      <th>DIS</th>\n",
       "      <th>RAD</th>\n",
       "      <th>TAX</th>\n",
       "      <th>PTRATIO</th>\n",
       "      <th>B</th>\n",
       "      <th>LSTAT</th>\n",
       "      <th>target</th>\n",
       "    </tr>\n",
       "  </thead>\n",
       "  <tbody>\n",
       "    <tr>\n",
       "      <th>0</th>\n",
       "      <td>0.00632</td>\n",
       "      <td>18.0</td>\n",
       "      <td>2.31</td>\n",
       "      <td>0.0</td>\n",
       "      <td>0.538</td>\n",
       "      <td>6.575</td>\n",
       "      <td>65.2</td>\n",
       "      <td>4.0900</td>\n",
       "      <td>1.0</td>\n",
       "      <td>296.0</td>\n",
       "      <td>15.3</td>\n",
       "      <td>396.90</td>\n",
       "      <td>4.98</td>\n",
       "      <td>24.0</td>\n",
       "    </tr>\n",
       "    <tr>\n",
       "      <th>1</th>\n",
       "      <td>0.02731</td>\n",
       "      <td>0.0</td>\n",
       "      <td>7.07</td>\n",
       "      <td>0.0</td>\n",
       "      <td>0.469</td>\n",
       "      <td>6.421</td>\n",
       "      <td>78.9</td>\n",
       "      <td>4.9671</td>\n",
       "      <td>2.0</td>\n",
       "      <td>242.0</td>\n",
       "      <td>17.8</td>\n",
       "      <td>396.90</td>\n",
       "      <td>9.14</td>\n",
       "      <td>21.6</td>\n",
       "    </tr>\n",
       "    <tr>\n",
       "      <th>2</th>\n",
       "      <td>0.02729</td>\n",
       "      <td>0.0</td>\n",
       "      <td>7.07</td>\n",
       "      <td>0.0</td>\n",
       "      <td>0.469</td>\n",
       "      <td>7.185</td>\n",
       "      <td>61.1</td>\n",
       "      <td>4.9671</td>\n",
       "      <td>2.0</td>\n",
       "      <td>242.0</td>\n",
       "      <td>17.8</td>\n",
       "      <td>392.83</td>\n",
       "      <td>4.03</td>\n",
       "      <td>34.7</td>\n",
       "    </tr>\n",
       "    <tr>\n",
       "      <th>3</th>\n",
       "      <td>0.03237</td>\n",
       "      <td>0.0</td>\n",
       "      <td>2.18</td>\n",
       "      <td>0.0</td>\n",
       "      <td>0.458</td>\n",
       "      <td>6.998</td>\n",
       "      <td>45.8</td>\n",
       "      <td>6.0622</td>\n",
       "      <td>3.0</td>\n",
       "      <td>222.0</td>\n",
       "      <td>18.7</td>\n",
       "      <td>394.63</td>\n",
       "      <td>2.94</td>\n",
       "      <td>33.4</td>\n",
       "    </tr>\n",
       "    <tr>\n",
       "      <th>4</th>\n",
       "      <td>0.06905</td>\n",
       "      <td>0.0</td>\n",
       "      <td>2.18</td>\n",
       "      <td>0.0</td>\n",
       "      <td>0.458</td>\n",
       "      <td>7.147</td>\n",
       "      <td>54.2</td>\n",
       "      <td>6.0622</td>\n",
       "      <td>3.0</td>\n",
       "      <td>222.0</td>\n",
       "      <td>18.7</td>\n",
       "      <td>396.90</td>\n",
       "      <td>5.33</td>\n",
       "      <td>36.2</td>\n",
       "    </tr>\n",
       "  </tbody>\n",
       "</table>\n",
       "</div>"
      ],
      "text/plain": [
       "      CRIM    ZN  INDUS  CHAS    NOX     RM   AGE     DIS  RAD    TAX  \\\n",
       "0  0.00632  18.0   2.31   0.0  0.538  6.575  65.2  4.0900  1.0  296.0   \n",
       "1  0.02731   0.0   7.07   0.0  0.469  6.421  78.9  4.9671  2.0  242.0   \n",
       "2  0.02729   0.0   7.07   0.0  0.469  7.185  61.1  4.9671  2.0  242.0   \n",
       "3  0.03237   0.0   2.18   0.0  0.458  6.998  45.8  6.0622  3.0  222.0   \n",
       "4  0.06905   0.0   2.18   0.0  0.458  7.147  54.2  6.0622  3.0  222.0   \n",
       "\n",
       "   PTRATIO       B  LSTAT  target  \n",
       "0     15.3  396.90   4.98    24.0  \n",
       "1     17.8  396.90   9.14    21.6  \n",
       "2     17.8  392.83   4.03    34.7  \n",
       "3     18.7  394.63   2.94    33.4  \n",
       "4     18.7  396.90   5.33    36.2  "
      ]
     },
     "execution_count": 2,
     "metadata": {},
     "output_type": "execute_result"
    }
   ],
   "source": [
    "data = load_boston() # load boston house price dataset\n",
    "df = pd.DataFrame(data.data, columns=data.feature_names) # convert dataset to Pandas DataFrame\n",
    "df['target'] = data.target # arrange target vector\n",
    "df.head() # look at the first 5 observations of the dataset"
   ]
  },
  {
   "cell_type": "markdown",
   "id": "a0dae2d1",
   "metadata": {},
   "source": [
    "Now, we will arrange the features matrix. We will take all columns except target column."
   ]
  },
  {
   "cell_type": "code",
   "execution_count": 3,
   "id": "54684d13",
   "metadata": {},
   "outputs": [
    {
     "data": {
      "text/plain": [
       "(506, 13)"
      ]
     },
     "execution_count": 3,
     "metadata": {},
     "output_type": "execute_result"
    }
   ],
   "source": [
    "features = df.loc[:, df.columns[0:-1]].values  # Converting to NumPy array with values attribute\n",
    "features.shape  # confirm it is 2D array"
   ]
  },
  {
   "cell_type": "code",
   "execution_count": 4,
   "id": "619bfaf5",
   "metadata": {},
   "outputs": [
    {
     "data": {
      "text/plain": [
       "(506,)"
      ]
     },
     "execution_count": 4,
     "metadata": {},
     "output_type": "execute_result"
    }
   ],
   "source": [
    "targets = df.loc[:, 'target'].values  # Convert prices/target column to NumPy array\n",
    "targets.shape  # it is 1D in this case"
   ]
  },
  {
   "cell_type": "markdown",
   "id": "1b7d485a",
   "metadata": {},
   "source": [
    "Now, our data is ready to work with sckit-learn library. "
   ]
  },
  {
   "cell_type": "markdown",
   "id": "549358cd",
   "metadata": {},
   "source": [
    "### Linear Regression using Scikit-Learn"
   ]
  },
  {
   "cell_type": "markdown",
   "id": "56bbb0a9",
   "metadata": {},
   "source": [
    "   Linear regression is used to predict a continuous value. Let's create a linear regression model for the boston house prices dataset using sckit-learn. First, we will import the necessary libraries:"
   ]
  },
  {
   "cell_type": "code",
   "execution_count": 5,
   "id": "45123ba9",
   "metadata": {},
   "outputs": [],
   "source": [
    "from sklearn.model_selection import train_test_split\n",
    "from sklearn.linear_model import LinearRegression"
   ]
  },
  {
   "cell_type": "markdown",
   "id": "5c925217",
   "metadata": {},
   "source": [
    "Then we will split our dataset into two pieces: training set and test set. The ratio can be 80% for training and %20 for test. "
   ]
  },
  {
   "cell_type": "code",
   "execution_count": 6,
   "id": "8bb18da2",
   "metadata": {},
   "outputs": [],
   "source": [
    "features_train, features_test, targets_train, targets_test \\\n",
    "= train_test_split(features,targets,random_state = 3)"
   ]
  },
  {
   "cell_type": "code",
   "execution_count": 7,
   "id": "74225b63",
   "metadata": {},
   "outputs": [
    {
     "name": "stdout",
     "output_type": "stream",
     "text": [
      "0.7668895327325096\n"
     ]
    }
   ],
   "source": [
    "reg = LinearRegression(fit_intercept=True)  # create a LinearRegression instance\n",
    "\n",
    "reg.fit(features_train,targets_train)  # train the model on the training set\n",
    "\n",
    "score = reg.score(features_test, targets_test)  # print the score acc. to test set\n",
    "print(score)"
   ]
  },
  {
   "cell_type": "markdown",
   "id": "4c738302",
   "metadata": {},
   "source": [
    "### Logistic Regression using Scikit-Learn"
   ]
  },
  {
   "cell_type": "markdown",
   "id": "67816dc5",
   "metadata": {},
   "source": [
    "Logistic regression is a model used for classification. Let's create Logistic regression model for the iris dataset. "
   ]
  },
  {
   "cell_type": "code",
   "execution_count": 8,
   "id": "22adedfe",
   "metadata": {},
   "outputs": [],
   "source": [
    "from sklearn.datasets import load_iris  \n",
    "from sklearn.linear_model import LogisticRegression  \n",
    "from sklearn.preprocessing import StandardScaler"
   ]
  },
  {
   "cell_type": "code",
   "execution_count": 9,
   "id": "7a3e514e",
   "metadata": {},
   "outputs": [],
   "source": [
    "iris_data = load_iris()\n",
    "iris_df = pd.DataFrame(iris_data.data, columns=iris_data.feature_names)\n",
    "iris_df['species'] = iris_data.target\n",
    "\n",
    "iris_ftr = iris_df.loc[:, iris_df.columns[0:-1]].values  # take all columns except species(target)\n",
    "iris_tar = iris_df.loc[:, iris_df.columns[-1]].values  # take only last(target) column\n",
    "\n",
    "iris_ftr_train, iris_ftr_test, iris_tar_train, iris_tar_test \\\n",
    "= train_test_split(iris_ftr,iris_tar, random_state = 0)"
   ]
  },
  {
   "cell_type": "markdown",
   "id": "07baabd8",
   "metadata": {},
   "source": [
    "Logistic regression is affected by scale, therefore, we need to scale our features in the data onto unit scale before using Logistic regression for optimal performance. Unit scale means having Gaussian with zero mean (mean=0) and unit variance (variance=1). We will use scikit-learn's _**StandardScaler**_ to standardize the features.   "
   ]
  },
  {
   "cell_type": "code",
   "execution_count": 10,
   "id": "fc1d85d4",
   "metadata": {},
   "outputs": [],
   "source": [
    "scaler = StandardScaler()\n",
    "scaler.fit(iris_ftr_train)  # fit on training set only\n",
    "\n",
    "iris_ftr_train = scaler.transform(iris_ftr_train) # apply transform to the training set\n",
    "iris_ftr_test = scaler.transform(iris_ftr_test) # apply transform to the test set"
   ]
  },
  {
   "cell_type": "code",
   "execution_count": 11,
   "id": "5593a434",
   "metadata": {},
   "outputs": [
    {
     "name": "stdout",
     "output_type": "stream",
     "text": [
      "0.9736842105263158\n"
     ]
    }
   ],
   "source": [
    "clf = LogisticRegression()\n",
    "\n",
    "clf.fit(iris_ftr_train, iris_tar_train)  # train the model\n",
    "\n",
    "acc = clf.score(iris_ftr_test, iris_tar_test)  # print the accuracy acc. to test set: correct predictions/total number of data points\n",
    "print(acc)"
   ]
  },
  {
   "cell_type": "markdown",
   "id": "b3fa7704",
   "metadata": {},
   "source": [
    "Logistic regression allows us to see prediction probabilities as well as a prediction. So, it gives us probabilities. "
   ]
  },
  {
   "cell_type": "code",
   "execution_count": 12,
   "id": "53354d1c",
   "metadata": {},
   "outputs": [
    {
     "data": {
      "text/plain": [
       "array([[-0.09984503, -0.57982483,  0.72717965,  1.51271377]])"
      ]
     },
     "execution_count": 12,
     "metadata": {},
     "output_type": "execute_result"
    }
   ],
   "source": [
    "iris_ftr_test[0].reshape(1,-1)  # features of one observation after standardization"
   ]
  },
  {
   "cell_type": "code",
   "execution_count": 13,
   "id": "f17f5400",
   "metadata": {},
   "outputs": [
    {
     "name": "stdout",
     "output_type": "stream",
     "text": [
      "prediction: 2\n",
      "probabilities: [[1.44000190e-04 3.10229631e-02 9.68833037e-01]]\n"
     ]
    }
   ],
   "source": [
    "print('prediction:', clf.predict(iris_ftr_test[0].reshape(1,-1))[0])  # predictions for one sample\n",
    "print('probabilities:',clf.predict_proba(iris_ftr_test[0].reshape(1,-1)))  # probabilities of the prediction"
   ]
  },
  {
   "cell_type": "markdown",
   "id": "4c5871a2",
   "metadata": {},
   "source": [
    "We can see the prediction and probabilities for that prediction using the line above. We have three classes: 0, 1 and 2. The class of first observation in the test set is 2 and our model predicts 2 with 96.8% probability.  "
   ]
  },
  {
   "cell_type": "markdown",
   "id": "2a633252",
   "metadata": {},
   "source": [
    "We can also look at the confusion matrix. It gives much insight into what was wrong. "
   ]
  },
  {
   "cell_type": "code",
   "execution_count": 14,
   "id": "6100b6bb",
   "metadata": {},
   "outputs": [
    {
     "data": {
      "image/png": "[encoded data removed]",
      "text/plain": [
       "<Figure size 864x576 with 2 Axes>"
      ]
     },
     "metadata": {
      "needs_background": "light"
     },
     "output_type": "display_data"
    }
   ],
   "source": [
    "from sklearn import metrics\n",
    "import seaborn as sns\n",
    "\n",
    "cfsmat = metrics.confusion_matrix(iris_tar_test, clf.predict(iris_ftr_test))\n",
    "\n",
    "plt.figure(figsize=(12,8))\n",
    "sns.heatmap(cfsmat, annot=True,\n",
    "           fmt='.0f',\n",
    "           linewidths = .5,\n",
    "           square = True,\n",
    "           cmap = 'Blues');\n",
    "\n",
    "plt.ylabel('Actual Label', fontsize=17);\n",
    "plt.xlabel('Predicted Label', fontsize=17);\n",
    "plt.title('Accuracy Score: {}'.format(acc), size=17);\n",
    "plt.tick_params(labelsize=15)"
   ]
  },
  {
   "cell_type": "markdown",
   "id": "a16c0bd8",
   "metadata": {},
   "source": [
    "We have 38 samples with corresponding labels in our test set. According to heat map, we can see that predicted labels and actual labels are mostly matched, we have only 1 missclassification. "
   ]
  }
 ],
 "metadata": {
  "kernelspec": {
   "display_name": "Python 3",
   "language": "python",
   "name": "python3"
  },
  "language_info": {
   "codemirror_mode": {
    "name": "ipython",
    "version": 3
   },
   "file_extension": ".py",
   "mimetype": "text/x-python",
   "name": "python",
   "nbconvert_exporter": "python",
   "pygments_lexer": "ipython3",
   "version": "3.7.10"
  }
 },
 "nbformat": 4,
 "nbformat_minor": 5
}
